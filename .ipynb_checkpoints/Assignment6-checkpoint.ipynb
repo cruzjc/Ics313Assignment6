{
 "cells": [
  {
   "cell_type": "code",
   "execution_count": 1,
   "metadata": {},
   "outputs": [],
   "source": [
    "#get steam sale game list\n",
    "#get gamespot score for each game in game list\n",
    "#output html file 'rankings.html'\n",
    "#-table of game names, hyperlink to gamespot review\n",
    "#--only include %50 discounted or more\n",
    "#--sort by review score, highest first\n",
    "#--remove '©''\n",
    "#--remove '®'\n",
    "#--\": Steam Edition\"\n",
    "#--\": Digital Edition\""
   ]
  },
  {
   "cell_type": "code",
   "execution_count": 2,
   "metadata": {},
   "outputs": [],
   "source": [
    "#https://stackoverflow.com/questions/37372603/how-to-remove-specific-substrings-from-a-set-of-strings-in-python"
   ]
  },
  {
   "cell_type": "code",
   "execution_count": 3,
   "metadata": {},
   "outputs": [],
   "source": [
    "#imports\n",
    "import requests\n",
    "import re\n",
    "from operator import itemgetter"
   ]
  },
  {
   "cell_type": "code",
   "execution_count": 4,
   "metadata": {},
   "outputs": [],
   "source": [
    "#get steam speacials search page\n",
    "steamSpecialsUrl=\"https://store.steampowered.com/search/\"\n",
    "steamSpecialsPageNumber=1\n",
    "steamSpecialsPayload={'specials':1,'page':steamSpecialsPageNumber}\n",
    "#headers = {'User-Agent': 'Mozilla/5.0 (Macintosh; Intel Mac OS X 10_10_1) AppleWebKit/537.36 (KHTML, like Gecko) Chrome/39.0.2171.95 Safari/537.36'}#chrome\n",
    "headers = {'User-Agent': 'Mozilla/5.0 (Windows NT 6.1; WOW64; rv:64.0) Gecko/20100101 Firefox/64.0'}#Firefox\n",
    "\n",
    "#get page\n",
    "page = requests.get(steamSpecialsUrl,params=steamSpecialsPayload,headers=headers)\n",
    "\n",
    "#debug\n",
    "#print(page.url)\n",
    "#print(page.text)"
   ]
  },
  {
   "cell_type": "code",
   "execution_count": 5,
   "metadata": {},
   "outputs": [
    {
     "data": {
      "text/plain": [
       "'<a href=\"https://store.steampowered.com/privacy_agreement/\" target=\"_blank\">Privacy Policy</a>\\r\\n\\t\\t\\t\\t\\t\\t\\t\\t&nbsp;| &nbsp;<a href=\"http://www.valvesoftware.com/legal.htm\" target=\"_blank\">Legal</a>\\r\\n\\t\\t\\t\\t\\t\\t\\t\\t&nbsp;| &nbsp;<a href=\"https://store.steampowered.com/subscriber_agreement/\" target=\"_blank\">Steam Subscriber Agreement</a>\\r\\n\\t\\t\\t\\t\\t\\t\\t\\t&nbsp;| &nbsp;<a href=\"https://store.steampowered.com/steam_refunds/\" target=\"_blank\">Refunds</a>\\r\\n\\t\\t\\t\\t\\t\\t\\t</span>\\r\\n\\t\\t\\t\\t\\t\\t</div>\\r\\n\\t\\t\\t\\t\\t</div>\\r\\n\\t\\t\\t\\t\\t\\t\\t\\t\\t</div>\\r\\n\\t\\t\\t</div>\\r\\n\\t\\t\\r\\n\\t\\t<div class=\"responsive_local_menu_tab\">\\r\\n\\r\\n\\t\\t</div>\\r\\n\\r\\n\\t\\t<div class=\"responsive_page_menu_ctn localmenu\">\\r\\n\\t\\t\\t<div class=\"responsive_page_menu\"  id=\"responsive_page_local_menu\">\\r\\n\\t\\t\\t\\t<div class=\"localmenu_content\">\\r\\n\\t\\t\\t\\t</div>\\r\\n\\t\\t\\t</div>\\r\\n\\t\\t</div>\\r\\n\\r\\n\\r\\n\\r\\n\\t\\t\\t\\t\\t<div class=\"responsive_header\">\\r\\n\\t\\t\\t\\t<div class=\"responsive_header_content\">\\r\\n\\t\\t\\t\\t\\t<div id=\"responsive_menu_logo\">\\r\\n\\t\\t\\t\\t\\t\\t<img src=\"https://steamstore-a.akamaihd.net/public/shared/images/responsive/header_menu_hamburger.png\" height=\"100%\">\\r\\n\\t\\t\\t\\t\\t\\t\\t\\t\\t\\t\\t</div>\\r\\n\\t\\t\\t\\t\\t<div class=\"responsive_header_logo\">\\r\\n\\t\\t\\t\\t\\t\\t<img src=\"https://steamstore-a.akamaihd.net/public/shared/images/responsive/header_logo.png\" height=\"36\" border=\"0\" alt=\"STEAM\">\\r\\n\\t\\t\\t\\t\\t</div>\\r\\n\\t\\t\\t\\t</div>\\r\\n\\t\\t\\t</div>\\r\\n\\t\\t\\r\\n\\t\\t<div class=\"responsive_page_content_overlay\">\\r\\n\\r\\n\\t\\t</div>\\r\\n\\r\\n\\t\\t<div class=\"responsive_fixonscroll_ctn nonresponsive_hidden \">\\r\\n\\t\\t</div>\\r\\n\\t\\r\\n\\t<div class=\"responsive_page_content\">\\r\\n\\r\\n\\t\\t<div id=\"global_header\">\\r\\n\\t<div class=\"content\">\\r\\n\\t\\t<div class=\"logo\">\\r\\n\\t\\t\\t<span id=\"logo_holder\">\\r\\n\\t\\t\\t\\t\\t\\t\\t\\t\\t<a href=\"https://store.steampowered.com/\">\\r\\n\\t\\t\\t\\t\\t\\t<img src=\"https://steamstore-a.akamaihd.net/public/shared/images/header/globalheader_logo.png?t=962016\" width=\"176\" height=\"44\">\\r\\n\\t\\t\\t\\t\\t</a>\\r\\n\\t\\t\\t\\t\\t\\t\\t</span>\\r\\n\\t\\t\\t<!--[if lt IE 7]>\\r\\n\\t\\t\\t<style type=\"text/css\">\\r\\n\\t\\t\\t\\t#logo_holder img { filter:progid:DXImageTransform.Microsoft.Alpha(opacity=0); }\\r\\n\\t\\t\\t\\t#logo_holder { display: inline-block; width: 176px; height: 44px; filter:progid:DXImageTransform.Microsoft.AlphaImageLoader(src=\\'https://steamstore-a.akamaihd.net/public/images/v5/globalheader_logo.png\\'); }\\r\\n\\t\\t\\t</style>\\r\\n\\t\\t\\t<![endif]-->\\r\\n\\t\\t</div>\\r\\n\\r\\n\\t\\t\\t<div class=\"supernav_container\">\\r\\n\\t<a class=\"menuitem supernav\" href=\"https://store.steampowered.com/\" data-tooltip-type=\"selector\" data-tooltip-content=\".submenu_store\">\\r\\n\\t\\tSTORE\\t</a>\\r\\n\\t<div class=\"submenu_store\" style=\"display: none;\" data-submenuid=\"store\">\\r\\n\\t\\t<a class=\"submenuitem\" href=\"https://store.steampowered.com/\">Featured</a>\\r\\n\\t\\t<a class=\"submenuitem\" href=\"https://store.steampowered.com/explore/\">Explore</a>\\r\\n\\t\\t<a class=\"submenuitem\" href=\"https://store.steampowered.com/curators/\">Curators</a>\\r\\n\\t\\t<a class=\"submenuitem\" href=\"https://steamcommunity.com/my/wishlist/\">Wishlist</a>\\r\\n\\t\\t<a class=\"submenuitem\" href=\"https://store.steampowered.com/news/\">News</a>\\r\\n\\t\\t<a class=\"submenuitem\" href=\"https://store.steampowered.com/stats/\">Stats</a>\\r\\n\\t</div>\\r\\n\\r\\n\\r\\n\\t<a class=\"menuitem supernav\" style=\"display: block\" href=\"https://steamcommunity.com/\" data-tooltip-type=\"selector\" data-tooltip-content=\".submenu_community\">\\r\\n\\t\\tCOMMUNITY\\t</a>\\r\\n\\t<div class=\"submenu_community\" style=\"display: none;\" data-submenuid=\"community\">\\r\\n\\t\\t<a class=\"submenuitem\" href=\"https://steamcommunity.com/\">Home</a>\\r\\n\\t\\t<a class=\"submenuitem\" href=\"https://steamcommunity.com/discussions/\">Discussions</a>\\r\\n\\t\\t<a class=\"submenuitem\" href=\"https://steamcommunity.com/workshop/\">Workshop</a>\\r\\n\\t\\t<a class=\"submenuitem\" href=\"https://steamcommunity.com/market/\">Market</a>\\r\\n\\t\\t<a class=\"submenuitem\" href=\"https://steamcommunity.com/?subsection=broadcasts\">Broadcasts</a>\\r\\n\\t\\t\\t\\t\\t</div>\\r\\n\\r\\n\\t\\r\\n\\r\\n\\t\\r\\n\\t\\t\\t<a class=\"menuitem\" href=\"https://store.steampowered.com/about/\">\\r\\n\\t\\t\\tABOUT\\t\\t</a>\\r\\n\\t\\r\\n\\t<a class=\"menuitem\" href=\"https://help.steampowered.com/en/\">\\r\\n\\t\\tSUPPORT\\t</a>\\r\\n\\t</div>\\r\\n\\t<script type=\"text/javascript\">\\r\\n\\t\\tjQuery(function($) {\\r\\n\\t\\t\\t$(\\'#global_header .supernav\\').v_tooltip({\\'location\\':\\'bottom\\', \\'destroyWhenDone\\': false, \\'tooltipClass\\': \\'supernav_content\\', \\'offsetY\\':-4, \\'offsetX\\': 1, \\'horizontalSnap\\': 4, \\'tooltipParent\\': \\'#global_header .supernav_container\\', \\'correctForScreenSize\\': false});\\r\\n\\t\\t});\\r\\n\\t</script>\\r\\n\\r\\n\\t\\t<div id=\"global_actions\">\\r\\n\\t\\t\\t<div id=\"global_action_menu\">\\r\\n\\t\\t\\t\\t\\t\\t\\t\\t\\t<div class=\"header_installsteam_btn header_installsteam_btn_green\">\\r\\n\\r\\n\\t\\t\\t\\t\\t\\t<a class=\"header_installsteam_btn_content\" href=\"https://store.steampowered.com/about/\">\\r\\n\\t\\t\\t\\t\\t\\t\\tInstall Steam\\t\\t\\t\\t\\t\\t</a>\\r\\n\\t\\t\\t\\t\\t</div>\\r\\n\\t\\t\\t\\t\\r\\n\\t\\t\\t\\t\\r\\n\\t\\t\\t\\t\\t\\t\\t\\t\\t\\t\\t\\t\\t\\t<a class=\"global_action_link\" href=\"https://store.steampowered.com/login/?redir=search%2F%3Fspecials%3D1%26page%3D1&redir_ssl=1\">login</a>\\r\\n\\t\\t\\t\\t\\t&nbsp;|&nbsp;\\r\\n\\t\\t\\t\\t\\t<span class=\"pulldown global_action_link\" id=\"language_pulldown\" onclick=\"ShowMenu( this, \\'language_dropdown\\', \\'right\\' );\">language</span>\\r\\n\\t\\t\\t\\t\\t<div class=\"popup_block_new\" id=\"language_dropdown\" style=\"display: none;\">\\r\\n\\t\\t\\t\\t\\t\\t<div class=\"popup_body popup_menu\">\\r\\n\\t\\t\\t\\t\\t\\t\\t\\t\\t\\t\\t\\t\\t\\t\\t\\t\\t\\t\\t\\t\\t\\t\\t\\t\\t\\t\\t\\t\\t\\t\\t\\t\\t<a class=\"popup_menu_item tight\" href=\"?l=schinese&specials=1&page=1\" onclick=\"ChangeLanguage( \\'schinese\\' ); return false;\">简体中文 (Simplified Chinese)</a>\\r\\n\\t\\t\\t\\t\\t\\t\\t\\t\\t\\t\\t\\t\\t\\t\\t\\t\\t\\t\\t\\t\\t\\t\\t\\t\\t\\t<a class=\"popup_menu_item tight\" href=\"?l=tchinese&specials=1&page=1\" onclick=\"ChangeLanguage( \\'tchinese\\' ); return false;\">繁體中文 (Traditional Chinese)</a>\\r\\n\\t\\t\\t\\t\\t\\t\\t\\t\\t\\t\\t\\t\\t\\t\\t\\t\\t\\t\\t\\t\\t\\t\\t\\t\\t\\t<a class=\"popup_menu_item tight\" href=\"?l=japanese&specials=1&page=1\" onclick=\"ChangeLanguage( \\'japanese\\' ); return false;\">日本語 (Japanese)</a>\\r\\n\\t\\t\\t\\t\\t\\t\\t\\t\\t\\t\\t\\t\\t\\t\\t\\t\\t\\t\\t\\t\\t\\t\\t\\t\\t\\t<a class=\"popup_menu_item tight\" href=\"?l=koreana&specials=1&page=1\" onclick=\"ChangeLanguage( \\'koreana\\' ); return false;\">한국어 (Korean)</a>\\r\\n\\t\\t\\t\\t\\t\\t\\t\\t\\t\\t\\t\\t\\t\\t\\t\\t\\t\\t\\t\\t\\t\\t\\t\\t\\t\\t<a class=\"popup_menu_item tight\" href=\"?l=thai&specials=1&page=1\" onclick=\"ChangeLanguage( \\'thai\\' ); return false;\">ไทย (Thai)</a>\\r\\n\\t\\t\\t\\t\\t\\t\\t\\t\\t\\t\\t\\t\\t\\t\\t\\t\\t\\t\\t\\t\\t\\t\\t\\t\\t\\t<a class=\"popup_menu_item tight\" href=\"?l=bulgarian&specials=1&page=1\" onclick=\"ChangeLanguage( \\'bulgarian\\' ); return false;\">Български (Bulgarian)</a>\\r\\n\\t\\t\\t\\t\\t\\t\\t\\t\\t\\t\\t\\t\\t\\t\\t\\t\\t\\t\\t\\t\\t\\t\\t\\t\\t\\t<a class=\"popup_menu_item tight\" href=\"?l=czech&specials=1&page=1\" onclick=\"ChangeLanguage( \\'czech\\' ); return false;\">Čeština (Czech)</a>\\r\\n\\t\\t\\t\\t\\t\\t\\t\\t\\t\\t\\t\\t\\t\\t\\t\\t\\t\\t\\t\\t\\t\\t\\t\\t\\t\\t<a class=\"popup_menu_item tight\" href=\"?l=danish&specials=1&page=1\" onclick=\"ChangeLanguage( \\'danish\\' ); return false;\">Dansk (Danish)</a>\\r\\n\\t\\t\\t\\t\\t\\t\\t\\t\\t\\t\\t\\t\\t\\t\\t\\t\\t\\t\\t\\t\\t\\t\\t\\t\\t\\t<a class=\"popup_menu_item tight\" href=\"?l=german&specials=1&page=1\" onclick=\"ChangeLanguage( \\'german\\' ); return false;\">Deutsch (German)</a>\\r\\n\\t\\t\\t\\t\\t\\t\\t\\t\\t\\t\\t\\t\\t\\t\\t\\t\\t\\t\\t\\t\\t\\t\\t\\t\\t\\t\\t\\t\\t\\t\\t\\t\\t\\t\\t<a class=\"popup_menu_item tight\" href=\"?l=spanish&specials=1&page=1\" onclick=\"ChangeLanguage( \\'spanish\\' ); return false;\">Español - España (Spanish - Spain)</a>\\r\\n\\t\\t\\t\\t\\t\\t\\t\\t\\t\\t\\t\\t\\t\\t\\t\\t\\t\\t\\t\\t\\t\\t\\t\\t\\t\\t<a class=\"popup_menu_item tight\" href=\"?l=latam&specials=1&page=1\" onclick=\"ChangeLanguage( \\'latam\\' ); return false;\">Español - Latinoamérica (Spanish - Latin America)</a>\\r\\n\\t\\t\\t\\t\\t\\t\\t\\t\\t\\t\\t\\t\\t\\t\\t\\t\\t\\t\\t\\t\\t\\t\\t\\t\\t\\t<a class=\"popup_menu_item tight\" href=\"?l=greek&specials=1&page=1\" onclick=\"ChangeLanguage( \\'greek\\' ); return false;\">Ελληνικά (Greek)</a>\\r\\n\\t\\t\\t\\t\\t\\t\\t\\t\\t\\t\\t\\t\\t\\t\\t\\t\\t\\t\\t\\t\\t\\t\\t\\t\\t\\t<a class=\"popup_menu_item tight\" href=\"?l=french&specials=1&page=1\" onclick=\"ChangeLanguage( \\'french\\' ); return false;\">Français (French)</a>\\r\\n\\t\\t\\t\\t\\t\\t\\t\\t\\t\\t\\t\\t\\t\\t\\t\\t\\t\\t\\t\\t\\t\\t\\t\\t\\t\\t<a class=\"popup_menu_item tight\" href=\"?l=italian&specials=1&page=1\" onclick=\"ChangeLanguage( \\'italian\\' ); return false;\">Italiano (Italian)</a>\\r\\n\\t\\t\\t\\t\\t\\t\\t\\t\\t\\t\\t\\t\\t\\t\\t\\t\\t\\t\\t\\t\\t\\t\\t\\t\\t\\t<a class=\"popup_menu_item tight\" href=\"?l=hungarian&specials=1&page=1\" onclick=\"ChangeLanguage( \\'hungarian\\' ); return false;\">Magyar (Hungarian)</a>\\r\\n\\t\\t\\t\\t\\t\\t\\t\\t\\t\\t\\t\\t\\t\\t\\t\\t\\t\\t\\t\\t\\t\\t\\t\\t\\t\\t<a class=\"popup_menu_item tight\" href=\"?l=dutch&specials=1&page=1\" onclick=\"ChangeLanguage( \\'dutch\\' ); return false;\">Nederlands (Dutch)</a>\\r\\n\\t\\t\\t\\t\\t\\t\\t\\t\\t\\t\\t\\t\\t\\t\\t\\t\\t\\t\\t\\t\\t\\t\\t\\t\\t\\t<a class=\"popup_menu_item tight\" href=\"?l=norwegian&specials=1&page=1\" onclick=\"ChangeLanguage( \\'norwegian\\' ); return false;\">Norsk (Norwegian)</a>\\r\\n\\t\\t\\t\\t\\t\\t\\t\\t\\t\\t\\t\\t\\t\\t\\t\\t\\t\\t\\t\\t\\t\\t\\t\\t\\t\\t<a class=\"popup_menu_item tight\" href=\"?l=polish&specials=1&page=1\" onclick=\"ChangeLanguage( \\'polish\\' ); return false;\">Polski (Polish)</a>\\r\\n\\t\\t\\t\\t\\t\\t\\t\\t\\t\\t\\t\\t\\t\\t\\t\\t\\t\\t\\t\\t\\t\\t\\t\\t\\t\\t<a class=\"popup_menu_item tight\" href=\"?l=portuguese&specials=1&page=1\" onclick=\"ChangeLanguage( \\'portuguese\\' ); return false;\">Português (Portuguese)</a>\\r\\n\\t\\t\\t\\t\\t\\t\\t\\t\\t\\t\\t\\t\\t\\t\\t\\t\\t\\t\\t\\t\\t\\t\\t\\t\\t\\t<a class=\"popup_menu_item tight\" href=\"?l=brazilian&specials=1&page=1\" onclick=\"ChangeLanguage( \\'brazilian\\' ); return false;\">Português - Brasil (Portuguese - Brazil)</a>\\r\\n\\t\\t\\t\\t\\t\\t\\t\\t\\t\\t\\t\\t\\t\\t\\t\\t\\t\\t\\t\\t\\t\\t\\t\\t\\t\\t<a class=\"popup_menu_item tight\" href=\"?l=romanian&specials=1&page=1\" onclick=\"ChangeLanguage( \\'romanian\\' ); return false;\">Română (Romanian)</a>\\r\\n\\t\\t\\t\\t\\t\\t\\t\\t\\t\\t\\t\\t\\t\\t\\t\\t\\t\\t\\t\\t\\t\\t\\t\\t\\t\\t<a class=\"popup_menu_item tight\" href=\"?l=russian&specials=1&page=1\" onclick=\"ChangeLanguage( \\'russian\\' ); return false;\">Русский (Russian)</a>\\r\\n\\t\\t\\t\\t\\t\\t\\t\\t\\t\\t\\t\\t\\t\\t\\t\\t\\t\\t\\t\\t\\t\\t\\t\\t\\t\\t<a class=\"popup_menu_item tight\" href=\"?l=finnish&specials=1&page=1\" onclick=\"ChangeLanguage( \\'finnish\\' ); return false;\">Suomi (Finnish)</a>\\r\\n\\t\\t\\t\\t\\t\\t\\t\\t\\t\\t\\t\\t\\t\\t\\t\\t\\t\\t\\t\\t\\t\\t\\t\\t\\t\\t<a class=\"popup_menu_item tight\" href=\"?l=swedish&specials=1&page=1\" onclick=\"ChangeLanguage( \\'swedish\\' ); return false;\">Svenska (Swedish)</a>\\r\\n\\t\\t\\t\\t\\t\\t\\t\\t\\t\\t\\t\\t\\t\\t\\t\\t\\t\\t\\t\\t\\t\\t\\t\\t\\t\\t<a class=\"popup_menu_item tight\" href=\"?l=turkish&specials=1&page=1\" onclick=\"ChangeLanguage( \\'turkish\\' ); return false;\">Türkçe (Turkish)</a>\\r\\n\\t\\t\\t\\t\\t\\t\\t\\t\\t\\t\\t\\t\\t\\t\\t\\t\\t\\t\\t\\t\\t\\t\\t\\t\\t\\t<a class=\"popup_menu_item tight\" href=\"?l=vietnamese&specials=1&page=1\" onclick=\"ChangeLanguage( \\'vietnamese\\' ); return false;\">Tiếng Việt (Vietnamese)</a>\\r\\n\\t\\t\\t\\t\\t\\t\\t\\t\\t\\t\\t\\t\\t\\t\\t\\t\\t\\t\\t\\t\\t\\t\\t\\t\\t\\t<a class=\"popup_menu_item tight\" href=\"?l=ukrainian&specials=1&page=1\" onclick=\"ChangeLanguage( \\'ukrainian\\' ); return false;\">Українська (Ukrainian)</a>\\r\\n\\t\\t\\t\\t\\t\\t\\t\\t\\t\\t\\t\\t\\t\\t\\t\\t\\t\\t\\t\\t\\t\\t<a class=\"popup_menu_item tight\" href=\"http://translation.steampowered.com\" target=\"_blank\">Help us translate Steam</a>\\r\\n\\t\\t\\t\\t\\t\\t</div>\\r\\n\\t\\t\\t\\t\\t</div>\\r\\n\\t\\t\\t\\t\\t\\t\\t</div>\\r\\n\\t\\t\\t\\t\\t</div>\\r\\n\\t\\t\\t</div>\\r\\n</div>\\r\\n<div id=\"responsive_store_nav_ctn\"></div>\\r\\n\\t\\t<div class=\"responsive_page_template_content\">\\r\\n\\r\\n\\t\\t\\t\\r\\n<script type=\"text/javascript\">\\r\\n\\r\\n\\tjQuery( document ).ready(function( $ ) {\\r\\n\\r\\n\\t\\t// when we create the responsive right column menu, it moves several hidden inputs out of the form which breaks searching, so\\r\\n\\t\\t//\\twe reparent any hidden inputs in the right column to a spot at the bottom of the form with other hidden elements.\\r\\n\\t\\t// this selector only works once, so after moving from responsive to desktop mode the elements will stay in the hidden searchform area, but that\\'s ok.\\r\\n\\t\\t//\\tthey work just as well from there.\\r\\n\\t\\tResponsive_ReparentItemsInResponsiveMode( \\'#additional_search_options input[type=hidden]\\', $J(\\'#hidden_searchform_elements\\') );\\r\\n\\r\\n\\t\\tInitSearchPage();\\r\\n\\r\\n\\t\\tUpdateTags();\\r\\n\\r\\n\\t\\t$(\\'.tab_filter_control\\').each( function() {\\r\\n\\t\\t\\tvar $Control = $(this);\\r\\n\\t\\t\\tvar strParam = $Control.data(\\'param\\');\\r\\n\\t\\t\\tvar value = $Control.data(\\'value\\');\\r\\n\\r\\n\\t\\t\\t$Control.click( function() {\\r\\n\\t\\t\\t\\tvar strValues = decodeURIComponent( $J(\"#\"+strParam).val() );\\r\\n\\t\\t\\t\\tvalue = String(value); // Javascript: Dynamic types except sometimes not.\\r\\n\\t\\t\\t\\tif ( !$Control.hasClass( \\'checked\\' ) )\\r\\n\\t\\t\\t\\t{\\r\\n\\t\\t\\t\\t\\tvar rgValues;\\r\\n\\t\\t\\t\\t\\tif( !strValues )\\r\\n\\t\\t\\t\\t\\t\\trgValues = [ value ];\\r\\n\\t\\t\\t\\t\\telse\\r\\n\\t\\t\\t\\t\\t{\\r\\n\\t\\t\\t\\t\\t\\trgValues = strValues.split(\\',\\');\\r\\n\\t\\t\\t\\t\\t\\tif( $J.inArray(value, rgValues) == -1 )\\r\\n\\t\\t\\t\\t\\t\\t\\trgValues.push(value)\\r\\n\\t\\t\\t\\t\\t}\\r\\n\\r\\n\\t\\t\\t\\t\\t$J(\"#\"+strParam).val( rgValues.join(\\',\\') );\\r\\n\\t\\t\\t\\t\\t$Control.addClass(\\'checked\\');\\r\\n\\t\\t\\t\\t}\\r\\n\\t\\t\\t\\telse\\r\\n\\t\\t\\t\\t{\\r\\n\\t\\t\\t\\t\\tvar rgValues = strValues.split(\\',\\');\\r\\n\\t\\t\\t\\t\\tif( rgValues.indexOf(value) != -1 )\\r\\n\\t\\t\\t\\t\\t\\trgValues.splice( rgValues.indexOf(value), 1 );\\r\\n\\r\\n\\t\\t\\t\\t\\t$J(\"#\"+strParam).val( rgValues.join(\\',\\') );\\r\\n\\t\\t\\t\\t\\t$Control.removeClass(\\'checked\\');\\r\\n\\t\\t\\t\\t}\\r\\n\\t\\t\\t\\tAjaxSearchResults();\\r\\n\\t\\t\\t});\\r\\n\\t\\t});\\r\\n\\t});\\r\\n\\r\\n</script>\\r\\n\\r\\n\\r\\n\\r\\n<div class=\"page_header_ctn search \">\\r\\n\\r\\n\\t\\r\\n\\r\\n\\t\\t<div id=\"store_header\" class=\"\">\\r\\n\\t\\t<div class=\"content\">\\r\\n\\t\\t\\t<div id=\"store_controls\">\\r\\n\\t\\t\\t\\t<div id=\"cart_status_data\">\\r\\n\\t\\t\\t\\t\\t\\t\\t\\t\\t\\t\\t\\t\\t\\t\\t\\t\\t\\t\\t\\t\\t<div class=\"store_header_btn_green store_header_btn\" id=\"store_header_cart_btn\" style=\"display: none;\">\\r\\n\\t\\t\\t\\t\\t\\t\\t<div class=\"store_header_btn_caps store_header_btn_leftcap\"></div>\\r\\n\\t\\t\\t\\t\\t\\t\\t<div class=\"store_header_btn_caps store_header_btn_rightcap\"></div>\\r\\n\\t\\t\\t\\t\\t\\t\\t<a id=\"cart_link\" class=\"store_header_btn_content\" href=\"https://store.steampowered.com/cart/?snr=1_7_7_204_12\">\\r\\n\\t\\t\\t\\t\\t\\t\\t\\tCart\\t\\t\\t\\t\\t\\t\\t\\t(<span id=\"cart_item_count_value\">0</span>)\\r\\n\\t\\t\\t\\t\\t\\t\\t</a>\\r\\n\\t\\t\\t\\t\\t\\t</div>\\r\\n\\t\\t\\t\\t\\t\\t\\t\\t\\t</div>\\r\\n\\t\\t\\t</div>\\r\\n\\t\\t\\t\\t\\t\\t\\t<div id=\"store_nav_area\">\\r\\n\\t\\t\\t\\t\\t<div class=\"store_nav_leftcap\"></div>\\r\\n\\t\\t\\t\\t\\t<div class=\"store_nav_bg\">\\r\\n\\t\\t\\t\\t\\t\\t<div class=\"store_nav\">\\r\\n\\r\\n\\t\\t\\t\\t\\t\\t\\t\\t\\t\\t\\t\\t\\t<div class=\"tab  flyout_tab \" id=\"foryou_tab\" data-flyout=\"foryou_flyout\" data-flyout-align=\"left\" data-flyout-valign=\"bottom\" onmouseover=\"EnsureStoreMenuTagsLoaded( \\'#foryou_yourtags\\' );\">\\r\\n\\t\\t\\t\\t\\t\\t\\t\\t<span class=\"pulldown\">\\r\\n\\t\\t\\t\\t\\t\\t\\t\\t\\t<a class=\"pulldown_desktop\" href=\"https://store.steampowered.com/?snr=1_7_7_204_12\">Your Store</a>\\r\\n\\t\\t\\t\\t\\t\\t\\t\\t\\t<span></span>\\r\\n\\t\\t\\t\\t\\t\\t\\t\\t</span>\\r\\n\\t\\t\\t\\t\\t\\t\\t</div>\\r\\n\\t\\t\\t\\t\\t\\t\\t<div class=\"popup_block_new flyout_tab_flyout responsive_slidedown\" id=\"foryou_flyout\" style=\"display: none;\">\\r\\n\\t\\t\\t\\t\\t\\t\\t\\t<div class=\"popup_body popup_menu\">\\r\\n\\t\\t\\t\\t\\t\\t\\t\\t\\t<a class=\"popup_menu_item\" href=\"https://store.steampowered.com/?snr=1_7_7_204_12\">\\r\\n\\t\\t\\t\\t\\t\\t\\t\\t\\t\\tStore Home\\t\\t\\t\\t\\t\\t\\t\\t\\t</a>\\r\\n\\t\\t\\t\\t\\t\\t\\t\\t\\t<div class=\"hr\"></div>\\r\\n\\t\\t\\t\\t\\t\\t\\t\\t\\t<a class=\"popup_menu_item\" href=\"https://store.steampowered.com/recommended/?snr=1_7_7_204_12\">\\r\\n\\t\\t\\t\\t\\t\\t\\t\\t\\t\\tRecently viewed\\t\\t\\t\\t\\t\\t\\t\\t\\t</a>\\r\\n\\t\\t\\t\\t\\t\\t\\t\\t\\t<a class=\"popup_menu_item\" href=\"https://store.steampowered.com/curators/?snr=1_7_7_204_12\">\\r\\n\\t\\t\\t\\t\\t\\t\\t\\t\\t\\tSteam Curators\\t\\t\\t\\t\\t\\t\\t\\t\\t</a>\\r\\n\\t\\t\\t\\t\\t\\t\\t\\t\\t<a class=\"popup_menu_item\" href=\"https://store.steampowered.com/updated/all/?snr=1_7_7_204_12\">\\r\\n\\t\\t\\t\\t\\t\\t\\t\\t\\t\\tRecently updated\\t\\t\\t\\t\\t\\t\\t\\t\\t</a>\\r\\n\\t\\t\\t\\t\\t\\t\\t\\t</div>\\r\\n\\t\\t\\t\\t\\t\\t\\t</div>\\r\\n\\t\\t\\t\\t\\t\\t\\r\\n\\r\\n\\t\\t\\t\\t\\t\\t\\t\\t\\t\\t\\t\\t\\t\\t\\t<div class=\"tab  flyout_tab \" id=\"genre_tab\" data-flyout=\"genre_flyout\" data-flyout-align=\"left\" data-flyout-valign=\"bottom\">\\r\\n\\t\\t\\t\\t\\t\\t\\t\\t\\t<span class=\"pulldown\">\\r\\n\\t\\t\\t\\t\\t\\t\\t\\t\\t\\t<a class=\"pulldown_desktop\" href=\"https://store.steampowered.com/games/?snr=1_7_7_204_12\">Games</a>\\r\\n\\t\\t\\t\\t\\t\\t\\t\\t\\t\\t<a class=\"pulldown_mobile\" href=\"#\">Games</a>\\r\\n\\t\\t\\t\\t\\t\\t\\t\\t\\t\\t<span></span>\\r\\n\\t\\t\\t\\t\\t\\t\\t\\t\\t</span>\\r\\n\\t\\t\\t\\t\\t\\t\\t\\t</div>\\r\\n\\t\\t\\t\\t\\t\\t\\t\\t<div class=\"popup_block_new flyout_tab_flyout responsive_slidedown\" id=\"genre_flyout\" style=\"display: none;\">\\r\\n\\t\\t\\t\\t\\t\\t\\t\\t\\t<div class=\"popup_body popup_menu\">\\r\\n\\t\\t\\t\\t\\t\\t\\t\\t\\t\\t\\t\\t\\t\\t\\t\\t\\t\\t\\t\\t\\t\\t\\t\\t\\t\\t\\t\\t\\t\\t\\t\\t\\t\\t\\t\\t\\t\\t\\t\\t\\t\\t\\t<a class=\"popup_menu_item\" href=\"https://store.steampowered.com/genre/Free%20to%20Play/?snr=1_7_7_204_12\">\\r\\n\\t\\t\\t\\t\\t\\t\\t\\t\\t\\t\\t\\t\\tFree to Play\\t\\t\\t\\t\\t\\t\\t\\t\\t\\t\\t\\t</a>\\r\\n\\t\\t\\t\\t\\t\\t\\t\\t\\t\\t\\t\\t\\t\\t\\t\\t\\t\\t\\t\\t\\t\\t\\t\\t\\t\\t\\t\\t\\t\\t\\t\\t\\t\\t\\t\\t\\t\\t\\t\\t\\t\\t\\t\\t\\t\\t\\t\\t\\t\\t\\t\\t\\t\\t\\t\\t\\t\\t\\t\\t\\t\\t\\t\\t\\t\\t\\t\\t\\t\\t\\t\\t\\t\\t\\t\\t\\t\\t\\t\\t\\t\\t\\t\\t\\t\\t\\t\\t\\t\\t\\t\\t\\t\\t\\t\\t\\t\\t\\t\\t\\t\\t\\t\\t\\t\\t\\t\\t\\t\\t\\t\\t\\t\\t\\t\\t\\t\\t\\t\\t\\t\\t\\t\\t\\t\\t\\t\\t\\t\\t\\t\\t\\t\\t\\t\\t\\t\\t\\t\\t\\t\\t\\t\\t\\t\\t\\t\\t\\t\\t\\t\\t\\t\\t\\t\\t\\t\\t\\t\\t\\t\\t\\t\\t\\t\\t\\t\\t\\t\\t\\t\\t\\t\\t\\t\\t\\t\\t\\t\\t\\t\\t\\t\\t\\t\\t\\t\\t\\t\\t\\t\\t\\t\\t\\t\\t\\t\\t\\t\\t\\t\\t\\t\\t\\t\\t\\t\\t\\t\\t\\t\\t\\t\\t\\t\\t\\t\\t\\t\\t\\t\\t\\t\\t\\t\\t\\t\\t\\t\\t\\t\\t\\t\\t\\t\\t\\t\\t\\t\\t\\t\\t\\t\\t\\t\\t\\t\\t\\t\\t\\t\\t\\t\\t\\t\\t\\t\\t\\t\\t\\t\\t\\t\\t\\t\\t\\t\\t\\t\\t\\t\\t\\t\\t\\t\\t\\t\\t\\t\\t\\t\\t\\t\\t\\t\\t\\t\\t\\t\\t\\t\\t\\t\\t\\t\\t\\t\\t\\t\\t\\t\\t\\t\\t\\t\\t\\t\\t\\t\\t\\t\\t\\t\\t\\t\\t\\t\\t\\t\\t\\t\\t\\t\\t\\t\\t\\t\\t\\t\\t\\t\\t\\t\\t\\t\\t\\t\\t\\t\\t\\t\\t\\t\\t\\t\\t\\t\\t\\t\\t\\t\\t\\t\\t\\t\\t\\t\\t\\t\\t\\t\\t\\t\\t\\t\\t\\t\\t\\t\\t\\t\\t\\t\\t\\t\\t\\t\\t\\t\\t\\t\\t\\t\\t\\t\\t\\t\\t\\t\\t\\t\\t\\t\\t\\t\\t\\t\\t\\t\\t\\t\\t\\t\\t\\t\\t\\t\\t\\t\\t\\t\\t\\t\\t\\t\\t\\t\\t\\t\\t\\t\\t\\t\\t\\t\\t\\t\\t\\t\\t\\t\\t\\t\\t\\t\\t\\t\\t\\t\\t\\t\\t\\t\\t\\t\\t\\t\\t\\t\\t\\t\\t\\t\\t\\t\\t\\t\\t\\t\\t\\t\\t\\t\\t<a class=\"popup_menu_item\" href=\"https://store.steampowered.com/genre/Early%20Access/?snr=1_7_7_204_12\">\\r\\n\\t\\t\\t\\t\\t\\t\\t\\t\\t\\t\\t\\t\\tEarly Access\\t\\t\\t\\t\\t\\t\\t\\t\\t\\t\\t\\t</a>\\r\\n\\t\\t\\t\\t\\t\\t\\t\\t\\t\\t\\t\\t\\t\\t\\t\\t\\t\\t\\t\\t\\t\\t\\t\\t\\t\\t\\t\\t\\t\\t\\t\\t\\t\\t\\t\\t\\t\\t\\t\\t\\t\\t\\t\\t\\t\\t\\t\\t\\t\\t\\t\\t\\t\\t\\t\\t\\t\\t\\t\\t\\t\\t\\t\\t\\t\\t\\t\\t\\t\\t\\t\\t\\t\\t\\t\\t\\t\\t\\t\\t\\t\\t\\t\\t\\t\\t\\t\\t\\t\\t\\t\\t\\t\\t\\t\\t\\t\\t\\t\\t\\t\\t\\t\\t\\t\\t\\t\\t\\t\\t\\t\\t\\t\\t\\t\\t\\t\\t\\t\\t\\t\\t\\t\\t\\t\\t\\t\\t\\t\\t\\t\\t\\t\\t\\t\\t\\t\\t\\t\\t\\t\\t\\t\\t\\t\\t\\t\\t\\t\\t\\t\\t\\t\\t\\t\\t\\t\\t\\t\\t\\t\\t\\t\\t\\t\\t\\t\\t\\t\\t\\t\\t\\t\\t\\t\\t\\t\\t\\t\\t\\t\\t\\t\\t\\t\\t\\t\\t\\t\\t\\t\\t\\t\\t\\t\\t\\t\\t\\t\\t\\t\\t\\t\\t\\t\\t\\t\\t\\t\\t\\t\\t\\t\\t\\t\\t\\t\\t\\t\\t\\t\\t\\t\\t\\t\\t\\t\\t\\t\\t\\t\\t\\t\\t\\t\\t\\t\\t\\t\\t\\t\\t\\t\\t\\t\\t\\t\\t\\t\\t\\t\\t\\t\\t\\t\\t\\t\\t\\t\\t\\t\\t<a class=\"popup_menu_item\" href=\"https://store.steampowered.com/freestuff/demos/?snr=1_7_7_204_12\">\\r\\n\\t\\t\\t\\t\\t\\t\\t\\t\\t\\t\\t<span>Demos</span>\\r\\n\\t\\t\\t\\t\\t\\t\\t\\t\\t\\t</a>\\r\\n\\t\\t\\t\\t\\t\\t\\t\\t\\t\\t<a class=\"popup_menu_item\" href=\"https://store.steampowered.com/vr/?snr=1_7_7_204_12\">\\r\\n\\t\\t\\t\\t\\t\\t\\t\\t\\t\\t\\t<span>Virtual Reality</span>\\r\\n\\t\\t\\t\\t\\t\\t\\t\\t\\t\\t</a>\\r\\n\\t\\t\\t\\t\\t\\t\\t\\t\\t\\t<a class=\"popup_menu_item\" href=\"https://store.steampowered.com/controller/?snr=1_7_7_204_12\">\\r\\n\\t\\t\\t\\t\\t\\t\\t\\t\\t\\t\\t<span>Steam Controller Friendly</span>\\r\\n\\t\\t\\t\\t\\t\\t\\t\\t\\t\\t</a>\\r\\n\\t\\t\\t\\t\\t\\t\\t\\t\\t\\t<a class=\"popup_menu_item\" href=\"https://store.steampowered.com/pccafe/?snr=1_7_7_204_12\">\\r\\n\\t\\t\\t\\t\\t\\t\\t\\t\\t\\t\\t<span>PC Café Games on Steam</span>\\r\\n\\t\\t\\t\\t\\t\\t\\t\\t\\t\\t</a>\\r\\n\\t\\t\\t\\t\\t\\t\\t\\t\\t\\t<div class=\"hr\"></div>\\r\\n\\t\\t\\t\\t\\t\\t\\t\\t\\t\\t<div class=\"popup_menu_subheader\">Browse by genre:</div>\\r\\n\\r\\n\\t\\t\\t\\t\\t\\t\\t\\t\\t\\t\\t\\t\\t\\t\\t\\t\\t\\t\\t\\t\\t\\t\\t\\t\\t\\t\\t\\t\\t\\t\\t\\t\\t<a class=\"popup_menu_item\" href=\"https://store.steampowered.com/tags/en/Action/?snr=1_7_7_204_12\">\\r\\n\\t\\t\\t\\t\\t\\t\\t\\t\\t\\t\\t\\t\\tAction\\t\\t\\t\\t\\t\\t\\t\\t\\t\\t\\t\\t</a>\\r\\n\\t\\t\\t\\t\\t\\t\\t\\t\\t\\t\\t\\t\\t\\t\\t\\t\\t\\t\\t\\t\\t\\t\\t\\t\\t\\t\\t\\t\\t\\t\\t\\t\\t\\t\\t\\t\\t\\t\\t\\t\\t\\t\\t\\t<a class=\"popup_menu_item\" href=\"https://store.steampowered.com/tags/en/Adventure/?snr=1_7_7_204_12\">\\r\\n\\t\\t\\t\\t\\t\\t\\t\\t\\t\\t\\t\\t\\tAdventure\\t\\t\\t\\t\\t\\t\\t\\t\\t\\t\\t\\t</a>\\r\\n\\t\\t\\t\\t\\t\\t\\t\\t\\t\\t\\t\\t\\t\\t\\t\\t\\t\\t\\t\\t\\t\\t\\t\\t\\t\\t\\t\\t\\t\\t\\t\\t\\t\\t\\t\\t\\t\\t\\t\\t\\t\\t\\t\\t<a class=\"popup_menu_item\" href=\"https://store.steampowered.com/tags/en/Casual/?snr=1_7_7_204_12\">\\r\\n\\t\\t\\t\\t\\t\\t\\t\\t\\t\\t\\t\\t\\tCasual\\t\\t\\t\\t\\t\\t\\t\\t\\t\\t\\t\\t</a>\\r\\n\\t\\t\\t\\t\\t\\t\\t\\t\\t\\t\\t\\t\\t\\t\\t\\t\\t\\t\\t\\t\\t\\t\\t\\t\\t\\t\\t\\t\\t\\t\\t\\t\\t\\t\\t\\t\\t\\t\\t\\t\\t\\t\\t\\t\\t\\t\\t\\t\\t\\t\\t\\t\\t\\t\\t\\t\\t\\t\\t\\t\\t\\t\\t\\t\\t\\t\\t\\t\\t\\t\\t\\t\\t\\t\\t\\t\\t\\t\\t\\t\\t\\t\\t\\t\\t\\t<a class=\"popup_menu_item\" href=\"https://store.steampowered.com/tags/en/Indie/?snr=1_7_7_204_12\">\\r\\n\\t\\t\\t\\t\\t\\t\\t\\t\\t\\t\\t\\t\\tIndie\\t\\t\\t\\t\\t\\t\\t\\t\\t\\t\\t\\t</a>\\r\\n\\t\\t\\t\\t\\t\\t\\t\\t\\t\\t\\t\\t\\t\\t\\t\\t\\t\\t\\t\\t\\t\\t\\t\\t\\t\\t\\t\\t\\t\\t\\t\\t\\t\\t\\t\\t\\t\\t\\t\\t\\t\\t\\t\\t<a class=\"popup_menu_item\" href=\"https://store.steampowered.com/tags/en/Massively%20Multiplayer/?snr=1_7_7_204_12\">\\r\\n\\t\\t\\t\\t\\t\\t\\t\\t\\t\\t\\t\\t\\tMassively Multiplayer\\t\\t\\t\\t\\t\\t\\t\\t\\t\\t\\t\\t</a>\\r\\n\\t\\t\\t\\t\\t\\t\\t\\t\\t\\t\\t\\t\\t\\t\\t\\t\\t\\t\\t\\t\\t\\t\\t\\t\\t\\t\\t\\t\\t\\t\\t\\t\\t\\t\\t\\t\\t\\t\\t\\t\\t\\t\\t\\t<a class=\"popup_menu_item\" href=\"https://store.steampowered.com/tags/en/Racing/?snr=1_7_7_204_12\">\\r\\n\\t\\t\\t\\t\\t\\t\\t\\t\\t\\t\\t\\t\\tRacing\\t\\t\\t\\t\\t\\t\\t\\t\\t\\t\\t\\t</a>\\r\\n\\t\\t\\t\\t\\t\\t\\t\\t\\t\\t\\t\\t\\t\\t\\t\\t\\t\\t\\t\\t\\t\\t\\t\\t\\t\\t\\t\\t\\t\\t\\t\\t\\t\\t\\t\\t\\t\\t\\t\\t\\t\\t\\t\\t<a class=\"popup_menu_item\" href=\"https://store.steampowered.com/tags/en/RPG/?snr=1_7_7_204_12\">\\r\\n\\t\\t\\t\\t\\t\\t\\t\\t\\t\\t\\t\\t\\tRPG\\t\\t\\t\\t\\t\\t\\t\\t\\t\\t\\t\\t</a>\\r\\n\\t\\t\\t\\t\\t\\t\\t\\t\\t\\t\\t\\t\\t\\t\\t\\t\\t\\t\\t\\t\\t\\t\\t\\t\\t\\t\\t\\t\\t\\t\\t\\t\\t\\t\\t\\t\\t\\t\\t\\t\\t\\t\\t\\t<a class=\"popup_menu_item\" href=\"https://store.steampowered.com/tags/en/Simulation/?snr=1_7_7_204_12\">\\r\\n\\t\\t\\t\\t\\t\\t\\t\\t\\t\\t\\t\\t\\tSimulation\\t\\t\\t\\t\\t\\t\\t\\t\\t\\t\\t\\t</a>\\r\\n\\t\\t\\t\\t\\t\\t\\t\\t\\t\\t\\t\\t\\t\\t\\t\\t\\t\\t\\t\\t\\t\\t\\t\\t\\t\\t\\t\\t\\t\\t\\t\\t\\t\\t\\t\\t\\t\\t\\t\\t\\t\\t\\t\\t<a class=\"popup_menu_item\" href=\"https://store.steampowered.com/tags/en/Sports/?snr=1_7_7_204_12\">\\r\\n\\t\\t\\t\\t\\t\\t\\t\\t\\t\\t\\t\\t\\tSports\\t\\t\\t\\t\\t\\t\\t\\t\\t\\t\\t\\t</a>\\r\\n\\t\\t\\t\\t\\t\\t\\t\\t\\t\\t\\t\\t\\t\\t\\t\\t\\t\\t\\t\\t\\t\\t\\t\\t\\t\\t\\t\\t\\t\\t\\t\\t\\t\\t\\t\\t\\t\\t\\t\\t\\t\\t\\t\\t<a class=\"popup_menu_item\" href=\"https://store.steampowered.com/tags/en/Strategy/?snr=1_7_7_204_12\">\\r\\n\\t\\t\\t\\t\\t\\t\\t\\t\\t\\t\\t\\t\\tStrategy\\t\\t\\t\\t\\t\\t\\t\\t\\t\\t\\t\\t</a>\\r\\n\\t\\t\\t\\t\\t\\t\\t\\t\\t\\t\\t\\t\\t\\t\\t\\t\\t\\t\\t\\t\\t\\r\\n\\t\\t\\t\\t\\t\\t\\t\\t\\t\\t<div class=\"hr\"></div>\\r\\n\\t\\t\\t\\t\\t\\t\\t\\t\\t\\t<a class=\"popup_menu_item\" href=\"https://store.steampowered.com/tag/browse/?snr=1_7_7_204_12\">\\r\\n\\t\\t\\t\\t\\t\\t\\t\\t\\t\\t\\tSee popular tags\\t\\t\\t\\t\\t\\t\\t\\t\\t\\t</a>\\r\\n\\t\\t\\t\\t\\t\\t\\t\\t\\t\\t<div class=\"hr\"></div>\\r\\n\\t\\t\\t\\t\\t\\t\\t\\t\\t\\t<div class=\"popup_menu_subheader\">Browse by platform:</div>\\r\\n\\t\\t\\t\\t\\t\\t\\t\\t\\t\\t<a class=\"popup_menu_item\" href=\"https://store.steampowered.com/macos?snr=1_7_7_204_12\">\\r\\n\\t\\t\\t\\t\\t\\t\\t\\t\\t\\t\\tMac OS X\\t\\t\\t\\t\\t\\t\\t\\t\\t\\t</a>\\r\\n\\t\\t\\t\\t\\t\\t\\t\\t\\t\\t<a class=\"popup_menu_item\" href=\"https://store.steampowered.com/linux?snr=1_7_7_204_12\">\\r\\n\\t\\t\\t\\t\\t\\t\\t\\t\\t\\t\\tSteamOS + Linux\\t\\t\\t\\t\\t\\t\\t\\t\\t\\t</a>\\r\\n\\t\\t\\t\\t\\t\\t\\t\\t\\t</div>\\r\\n\\t\\t\\t\\t\\t\\t\\t\\t</div>\\r\\n\\t\\t\\t\\t\\t\\t\\t\\r\\n\\t\\t\\t\\t\\t\\t\\t<div class=\"tab  flyout_tab \" id=\"software_tab\" data-flyout=\"software_flyout\" data-flyout-align=\"left\" data-flyout-valign=\"bottom\">\\r\\n\\t\\t\\t\\t\\t\\t\\t\\t<span class=\"pulldown\">\\r\\n\\t\\t\\t\\t\\t\\t\\t\\t\\t<a class=\"pulldown_desktop\" href=\"https://store.steampowered.com/software/?snr=1_7_7_204_12\">Software</a>\\r\\n\\t\\t\\t\\t\\t\\t\\t\\t\\t<a class=\"pulldown_mobile\" href=\"#\">Software</a>\\r\\n\\t\\t\\t\\t\\t\\t\\t\\t\\t<span></span>\\r\\n\\t\\t\\t\\t\\t\\t\\t\\t</span>\\r\\n\\r\\n\\t\\t\\t\\t\\t\\t\\t</div>\\r\\n\\t\\t\\t\\t\\t\\t\\t<div class=\"popup_block_new flyout_tab_flyout responsive_slidedown\" id=\"software_flyout\" style=\"display: none;\">\\r\\n\\t\\t\\t\\t\\t\\t\\t\\t<div class=\"popup_body popup_menu\">\\r\\n\\t\\t\\t\\t\\t\\t\\t\\t\\t<a class=\"popup_menu_item\" href=\"https://store.steampowered.com/software/?snr=1_7_7_204_12\">\\r\\n\\t\\t\\t\\t\\t\\t\\t\\t\\t\\tSoftware Hub\\t\\t\\t\\t\\t\\t\\t\\t\\t</a>\\r\\n\\t\\t\\t\\t\\t\\t\\t\\t\\t<div class=\"hr\"></div>\\r\\n\\t\\t\\t\\t\\t\\t\\t\\t\\t\\t\\t\\t\\t\\t\\t\\t\\t\\t\\t<a class=\"popup_menu_item\" href=\"https://store.steampowered.com/tags/en/Animation%20%26%20Modeling/?snr=1_7_7_204_12\">\\r\\n\\t\\t\\t\\t\\t\\t\\t\\t\\t\\t\\tAnimation & Modeling\\t\\t\\t\\t\\t\\t\\t\\t\\t\\t</a>\\r\\n\\t\\t\\t\\t\\t\\t\\t\\t\\t\\t\\t\\t\\t\\t\\t\\t\\t\\t\\t<a class=\"popup_menu_item\" href=\"https://store.steampowered.com/tags/en/Audio%20Production/?snr=1_7_7_204_12\">\\r\\n\\t\\t\\t\\t\\t\\t\\t\\t\\t\\t\\tAudio Production\\t\\t\\t\\t\\t\\t\\t\\t\\t\\t</a>\\r\\n\\t\\t\\t\\t\\t\\t\\t\\t\\t\\t\\t\\t\\t\\t\\t\\t\\t\\t\\t<a class=\"popup_menu_item\" href=\"https://store.steampowered.com/tags/en/Design%20%26%20Illustration/?snr=1_7_7_204_12\">\\r\\n\\t\\t\\t\\t\\t\\t\\t\\t\\t\\t\\tDesign & Illustration\\t\\t\\t\\t\\t\\t\\t\\t\\t\\t</a>\\r\\n\\t\\t\\t\\t\\t\\t\\t\\t\\t\\t\\t\\t\\t\\t\\t\\t\\t\\t\\t<a class=\"popup_menu_item\" href=\"https://store.steampowered.com/tags/en/Education/?snr=1_7_7_204_12\">\\r\\n\\t\\t\\t\\t\\t\\t\\t\\t\\t\\t\\tEducation\\t\\t\\t\\t\\t\\t\\t\\t\\t\\t</a>\\r\\n\\t\\t\\t\\t\\t\\t\\t\\t\\t\\t\\t\\t\\t\\t\\t\\t\\t\\t\\t<a class=\"popup_menu_item\" href=\"https://store.steampowered.com/tags/en/Game%20Development/?snr=1_7_7_204_12\">\\r\\n\\t\\t\\t\\t\\t\\t\\t\\t\\t\\t\\tGame Development\\t\\t\\t\\t\\t\\t\\t\\t\\t\\t</a>\\r\\n\\t\\t\\t\\t\\t\\t\\t\\t\\t\\t\\t\\t\\t\\t\\t\\t\\t\\t\\t<a class=\"popup_menu_item\" href=\"https://store.steampowered.com/tags/en/Photo%20Editing/?snr=1_7_7_204_12\">\\r\\n\\t\\t\\t\\t\\t\\t\\t\\t\\t\\t\\tPhoto Editing\\t\\t\\t\\t\\t\\t\\t\\t\\t\\t</a>\\r\\n\\t\\t\\t\\t\\t\\t\\t\\t\\t\\t\\t\\t\\t\\t\\t\\t\\t\\t\\t<a class=\"popup_menu_item\" href=\"https://store.steampowered.com/tags/en/Utilities/?snr=1_7_7_204_12\">\\r\\n\\t\\t\\t\\t\\t\\t\\t\\t\\t\\t\\tUtilities\\t\\t\\t\\t\\t\\t\\t\\t\\t\\t</a>\\r\\n\\t\\t\\t\\t\\t\\t\\t\\t\\t\\t\\t\\t\\t\\t\\t\\t\\t\\t\\t<a class=\"popup_menu_item\" href=\"https://store.steampowered.com/tags/en/Video%20Production/?snr=1_7_7_204_12\">\\r\\n\\t\\t\\t\\t\\t\\t\\t\\t\\t\\t\\tVideo Production\\t\\t\\t\\t\\t\\t\\t\\t\\t\\t</a>\\r\\n\\t\\t\\t\\t\\t\\t\\t\\t\\t\\t\\t\\t\\t\\t\\t\\t\\t\\t\\t<a class=\"popup_menu_item\" href=\"https://store.steampowered.com/tags/en/Web%20Publishing/?snr=1_7_7_204_12\">\\r\\n\\t\\t\\t\\t\\t\\t\\t\\t\\t\\t\\tWeb Publishing\\t\\t\\t\\t\\t\\t\\t\\t\\t\\t</a>\\r\\n\\t\\t\\t\\t\\t\\t\\t\\t\\t\\r\\n\\t\\t\\t\\t\\t\\t\\t\\t</div>\\r\\n\\t\\t\\t\\t\\t\\t\\t</div>\\r\\n\\r\\n\\t\\t\\t\\t\\t\\t\\t<div class=\"tab  flyout_tab \" id=\"hardware_tab\" data-flyout=\"hardware_flyout\" data-flyout-align=\"left\" data-flyout-valign=\"bottom\">\\r\\n\\t\\t\\t\\t\\t\\t\\t\\t<span class=\"pulldown\">\\r\\n\\t\\t\\t\\t\\t\\t\\t\\t\\t<a class=\"pulldown_desktop\" href=\"https://store.steampowered.com/controller/?snr=1_7_7_204_12\">Hardware</a>\\r\\n\\t\\t\\t\\t\\t\\t\\t\\t\\t<a class=\"pulldown_mobile\" href=\"#\">Hardware</a>\\r\\n\\t\\t\\t\\t\\t\\t\\t\\t\\t<span></span>\\r\\n\\t\\t\\t\\t\\t\\t\\t\\t</span>\\r\\n\\r\\n\\t\\t\\t\\t\\t\\t\\t</div>\\r\\n\\t\\t\\t\\t\\t\\t\\t<div class=\"popup_block_new flyout_tab_flyout responsive_slidedown\" id=\"hardware_flyout\" style=\"display: none;\">\\r\\n\\t\\t\\t\\t\\t\\t\\t\\t<div class=\"popup_body popup_menu\">\\r\\n\\t\\t\\t\\t\\t\\t\\t\\t\\t<a class=\"popup_menu_item\" href=\"https://store.steampowered.com/app/353370/?snr=1_7_7_204_12\">\\r\\n\\t\\t\\t\\t\\t\\t\\t\\t\\t\\tSteam Controller\\t\\t\\t\\t\\t\\t\\t\\t\\t</a>\\r\\n\\t\\t\\t\\t\\t\\t\\t\\t\\t<a class=\"popup_menu_item\" href=\"https://store.steampowered.com/app/353380/?snr=1_7_7_204_12\">\\r\\n\\t\\t\\t\\t\\t\\t\\t\\t\\t\\tSteam Link\\t\\t\\t\\t\\t\\t\\t\\t\\t</a>\\r\\n\\t\\t\\t\\t\\t\\t\\t\\t\\t<a class=\"popup_menu_item\" href=\"https://store.steampowered.com/app/358040/?snr=1_7_7_204_12\">\\r\\n\\t\\t\\t\\t\\t\\t\\t\\t\\t\\tHTC Vive\\t\\t\\t\\t\\t\\t\\t\\t\\t</a>\\r\\n\\t\\t\\t\\t\\t\\t\\t\\t</div>\\r\\n\\t\\t\\t\\t\\t\\t\\t</div>\\r\\n\\r\\n\\t\\t\\t\\t\\t\\t\\t<div class=\"tab  flyout_tab \" id=\"videos_tab\" data-flyout=\"videos_flyout\" data-flyout-align=\"left\" data-flyout-valign=\"bottom\">\\r\\n\\t\\t\\t\\t\\t\\t\\t\\t<span class=\"pulldown\">\\r\\n\\t\\t\\t\\t\\t\\t\\t\\t\\t<a class=\"pulldown_desktop\" href=\"https://store.steampowered.com/videos/?snr=1_7_7_204_12\">Videos</a>\\r\\n\\t\\t\\t\\t\\t\\t\\t\\t\\t<a class=\"pulldown_mobile\" href=\"#\">Videos</a>\\r\\n\\t\\t\\t\\t\\t\\t\\t\\t\\t<span></span>\\r\\n\\t\\t\\t\\t\\t\\t\\t\\t</span>\\r\\n\\r\\n\\t\\t\\t\\t\\t\\t\\t</div>\\r\\n\\t\\t\\t\\t\\t\\t\\t<div class=\"popup_block_new flyout_tab_flyout responsive_slidedown\" id=\"videos_flyout\" style=\"display: none;\">\\r\\n\\t\\t\\t\\t\\t\\t\\t\\t<div class=\"popup_body popup_menu\">\\r\\n\\t\\t\\t\\t\\t\\t\\t\\t\\t<a class=\"popup_menu_item\" href=\"https://store.steampowered.com/videos/?snr=1_7_7_204_12\">\\r\\n\\t\\t\\t\\t\\t\\t\\t\\t\\t\\tVideo Hub\\t\\t\\t\\t\\t\\t\\t\\t\\t</a>\\r\\n\\t\\t\\t\\t\\t\\t\\t\\t\\t<div class=\"hr\"></div>\\r\\n\\t\\t\\t\\t\\t\\t\\t\\t\\t<div class=\"popup_menu_subheader\">Browse by type:</div>\\r\\n\\t\\t\\t\\t\\t\\t\\t\\t\\t\\t\\t\\t\\t\\t\\t\\t\\t\\t\\t<a class=\"popup_menu_item\" href=\"https://store.steampowered.com/search/?snr=1_7_7_204_12#category1=992&sort_by=Released_DESC&page=1&tags=4700\">\\r\\n\\t\\t\\t\\t\\t\\t\\t\\t\\t\\t\\tMovie\\t\\t\\t\\t\\t\\t\\t\\t\\t\\t</a>\\r\\n\\t\\t\\t\\t\\t\\t\\t\\t\\t\\t\\t\\t\\t\\t\\t\\t\\t\\t\\t<a class=\"popup_menu_item\" href=\"https://store.steampowered.com/search/?snr=1_7_7_204_12#category1=992&sort_by=Released_DESC&page=1&tags=4242\">\\r\\n\\t\\t\\t\\t\\t\\t\\t\\t\\t\\t\\tEpisodic\\t\\t\\t\\t\\t\\t\\t\\t\\t\\t</a>\\r\\n\\t\\t\\t\\t\\t\\t\\t\\t\\t\\t\\t\\t\\t\\t\\t\\t\\t\\t\\t<a class=\"popup_menu_item\" href=\"https://store.steampowered.com/search/?snr=1_7_7_204_12#category1=992&sort_by=Released_DESC&page=1&tags=15339\">\\r\\n\\t\\t\\t\\t\\t\\t\\t\\t\\t\\t\\tDocumentary\\t\\t\\t\\t\\t\\t\\t\\t\\t\\t</a>\\r\\n\\t\\t\\t\\t\\t\\t\\t\\t\\t\\t\\t\\t\\t\\t\\t\\t\\t\\t\\t<a class=\"popup_menu_item\" href=\"https://store.steampowered.com/search/?snr=1_7_7_204_12#category1=992&sort_by=Released_DESC&page=1&tags=150626\">\\r\\n\\t\\t\\t\\t\\t\\t\\t\\t\\t\\t\\tGaming\\t\\t\\t\\t\\t\\t\\t\\t\\t\\t</a>\\r\\n\\t\\t\\t\\t\\t\\t\\t\\t\\t\\t\\t\\t\\t\\t\\t\\t\\t\\t\\t<a class=\"popup_menu_item\" href=\"https://store.steampowered.com/search/?snr=1_7_7_204_12#category1=992&sort_by=Released_DESC&page=1&tags=12057\">\\r\\n\\t\\t\\t\\t\\t\\t\\t\\t\\t\\t\\tTutorial\\t\\t\\t\\t\\t\\t\\t\\t\\t\\t</a>\\r\\n\\t\\t\\t\\t\\t\\t\\t\\t\\t\\t\\t\\t\\t\\t\\t\\t\\t\\t\\t<a class=\"popup_menu_item\" href=\"https://store.steampowered.com/search/?snr=1_7_7_204_12#category1=992&sort_by=Released_DESC&page=1&tags=4234\">\\r\\n\\t\\t\\t\\t\\t\\t\\t\\t\\t\\t\\tShort\\t\\t\\t\\t\\t\\t\\t\\t\\t\\t</a>\\r\\n\\t\\t\\t\\t\\t\\t\\t\\t\\t\\r\\n\\t\\t\\t\\t\\t\\t\\t\\t\\t<div class=\"hr\"></div>\\r\\n\\t\\t\\t\\t\\t\\t\\t\\t\\t<div class=\"popup_menu_subheader\">Browse by genre:</div>\\r\\n\\t\\t\\t\\t\\t\\t\\t\\t\\t\\t\\t\\t\\t\\t\\t\\t\\t\\t\\t<a class=\"popup_menu_item\" href=\"https://store.steampowered.com/search/?snr=1_7_7_204_12#category1=992&sort_by=Released_DESC&page=1&tags=19\">\\r\\n\\t\\t\\t\\t\\t\\t\\t\\t\\t\\t\\tAction\\t\\t\\t\\t\\t\\t\\t\\t\\t\\t</a>\\r\\n\\t\\t\\t\\t\\t\\t\\t\\t\\t\\t\\t\\t\\t\\t\\t\\t\\t\\t\\t<a class=\"popup_menu_item\" href=\"https://store.steampowered.com/search/?snr=1_7_7_204_12#category1=992&sort_by=Released_DESC&page=1&tags=4085\">\\r\\n\\t\\t\\t\\t\\t\\t\\t\\t\\t\\t\\tAnime\\t\\t\\t\\t\\t\\t\\t\\t\\t\\t</a>\\r\\n\\t\\t\\t\\t\\t\\t\\t\\t\\t\\t\\t\\t\\t\\t\\t\\t\\t\\t\\t<a class=\"popup_menu_item\" href=\"https://store.steampowered.com/search/?snr=1_7_7_204_12#category1=992&sort_by=Released_DESC&page=1&tags=1719\">\\r\\n\\t\\t\\t\\t\\t\\t\\t\\t\\t\\t\\tComedy\\t\\t\\t\\t\\t\\t\\t\\t\\t\\t</a>\\r\\n\\t\\t\\t\\t\\t\\t\\t\\t\\t\\t\\t\\t\\t\\t\\t\\t\\t\\t\\t<a class=\"popup_menu_item\" href=\"https://store.steampowered.com/search/?snr=1_7_7_204_12#category1=992&sort_by=Released_DESC&page=1&tags=5984\">\\r\\n\\t\\t\\t\\t\\t\\t\\t\\t\\t\\t\\tDrama\\t\\t\\t\\t\\t\\t\\t\\t\\t\\t</a>\\r\\n\\t\\t\\t\\t\\t\\t\\t\\t\\t\\t\\t\\t\\t\\t\\t\\t\\t\\t\\t<a class=\"popup_menu_item\" href=\"https://store.steampowered.com/search/?snr=1_7_7_204_12#category1=992&sort_by=Released_DESC&page=1&tags=1667\">\\r\\n\\t\\t\\t\\t\\t\\t\\t\\t\\t\\t\\tHorror\\t\\t\\t\\t\\t\\t\\t\\t\\t\\t</a>\\r\\n\\t\\t\\t\\t\\t\\t\\t\\t\\t\\t\\t\\t\\t\\t\\t\\t\\t\\t\\t<a class=\"popup_menu_item\" href=\"https://store.steampowered.com/search/?snr=1_7_7_204_12#category1=992&sort_by=Released_DESC&page=1&tags=3942\">\\r\\n\\t\\t\\t\\t\\t\\t\\t\\t\\t\\t\\tSci-fi\\t\\t\\t\\t\\t\\t\\t\\t\\t\\t</a>\\r\\n\\t\\t\\t\\t\\t\\t\\t\\t\\t\\t\\t\\t\\t\\t\\t\\t\\t</div>\\r\\n\\t\\t\\t\\t\\t\\t\\t</div>\\r\\n\\r\\n\\t\\t\\t\\t\\t\\t\\t<a class=\"tab  \" href=\"https://store.steampowered.com/news/?snr=1_7_7_204_12\">\\r\\n\\t\\t\\t\\t\\t\\t\\t\\t<span>News</span>\\r\\n\\t\\t\\t\\t\\t\\t\\t</a>\\r\\n\\r\\n\\t\\t\\t\\t\\t\\t\\t<div class=\"search_area\">\\r\\n\\t\\t\\t\\t\\t\\t\\t\\t<div id=\"store_search\">\\r\\n\\t\\t\\t\\t\\t\\t\\t\\t\\t<form id=\"searchform\" name=\"searchform\" method=\"get\" action=\"https://store.steampowered.com/search/\" onsubmit=\"return SearchSuggestCheckTerm(this);\">\\r\\n\\t\\t\\t\\t\\t\\t\\t\\t\\t\\t<input type=\"hidden\" name=\"snr\" value=\"1_7_7_204_12\" >\\r\\n\\t\\t\\t\\t\\t\\t\\t\\t\\t\\t<div class=\"searchbox\">\\r\\n\\t\\t\\t\\t\\t\\t\\t\\t\\t\\t\\t<input id=\"store_nav_search_term\" name=\"term\" type=\"text\" class=\"default\" placeholder=\"search the store\" size=\"22\" autocomplete=\"off\">\\r\\n\\t\\t\\t\\t\\t\\t\\t\\t\\t\\t\\t<a href=\"#\" id=\"store_search_link\" onclick=\"var $Form = $J(this).parents(\\'form\\'); $Form.submit(); return false;\"><img src=\"https://steamstore-a.akamaihd.net/public/images/blank.gif\"></a>\\r\\n\\t\\t\\t\\t\\t\\t\\t\\t\\t\\t</div>\\r\\n\\t\\t\\t\\t\\t\\t\\t\\t\\t</form>\\r\\n\\t\\t\\t\\t\\t\\t\\t\\t</div>\\r\\n\\t\\t\\t\\t\\t\\t\\t\\t<div id=\"searchterm_options\" class=\"search_suggest popup_block_new\" style=\"display: none;\">\\r\\n\\t\\t\\t\\t\\t\\t\\t\\t\\t<div class=\"popup_body\" style=\"border-top: none;\">\\r\\n\\t\\t\\t\\t\\t\\t\\t\\t\\t\\t<div id=\"search_suggestion_contents\">\\r\\n\\t\\t\\t\\t\\t\\t\\t\\t\\t\\t</div>\\r\\n\\t\\t\\t\\t\\t\\t\\t\\t\\t</div>\\r\\n\\t\\t\\t\\t\\t\\t\\t\\t</div>\\r\\n\\t\\t\\t\\t\\t\\t\\t</div>\\r\\n\\r\\n\\t\\t\\t\\t\\t\\t</div>\\r\\n\\t\\t\\t\\t\\t</div>\\r\\n\\t\\t\\t\\t\\t<div class=\"store_nav_rightcap\"></div>\\r\\n\\t\\t\\t\\t</div>\\r\\n\\t\\t\\t\\t\\t</div>\\r\\n\\t</div>\\r\\n\\t\\t\\t\\t<script type=\"text/javascript\">\\r\\n\\t\\t\\t$J( function() {\\r\\n\\t\\t\\t\\tBindAutoFlyoutEvents();\\r\\n\\r\\n\\t\\t\\t\\tvar $Window = $J(window);\\r\\n\\t\\t\\t\\tvar $Header = $J(\\'#store_header\\');\\r\\n\\t\\t\\t\\tvar $ResponsiveNavCtn = $J(\\'#responsive_store_nav_ctn\\');\\r\\n\\t\\t\\t\\tvar $HeaderWrapper;\\r\\n\\t\\t\\t\\t$Window.on(\\'Responsive_SmallScreenModeToggled.StoreMenu\\', function() {\\r\\n\\t\\t\\t\\t\\tvar bUseSmallScreenMode =window.UseSmallScreenMode && window.UseSmallScreenMode();\\r\\n\\r\\n\\t\\t\\t\\t\\tif ( !$HeaderWrapper )\\r\\n\\t\\t\\t\\t\\t\\t$HeaderWrapper = $Header.wrap( $J(\\'<div/>\\', {\\'class\\': \\'responsive_store_nav_ctn_spacer\\'} ) ).parent();\\r\\n\\r\\n\\t\\t\\t\\t\\tif ( bUseSmallScreenMode )\\r\\n\\t\\t\\t\\t\\t\\t$ResponsiveNavCtn.append( $Header );\\r\\n\\t\\t\\t\\t\\telse\\r\\n\\t\\t\\t\\t\\t\\t$HeaderWrapper.append( $Header );\\r\\n\\r\\n\\r\\n\\t\\t\\t\\t\\tif ( bUseSmallScreenMode )\\r\\n\\t\\t\\t\\t\\t{\\r\\n\\t\\t\\t\\t\\t\\t$Header.css( \\'visibility\\', \\'hidden\\' );\\r\\n\\t\\t\\t\\t\\t\\t$Header.show();\\r\\n\\t\\t\\t\\t\\t\\tvar nMenuHeight = $J(\\'#store_header\\' ).height() + $J(\\'#store_header\\' ).offset().top;\\r\\n\\t\\t\\t\\t\\t\\tif ( $Window.scrollTop() < nMenuHeight )\\r\\n\\t\\t\\t\\t\\t\\t\\t$Window.scrollTop( nMenuHeight - GetResponsiveHeaderFixedOffsetAdjustment() );\\r\\n\\r\\n\\t\\t\\t\\t\\t\\t$Header.css(\\'visibility\\', \\'visible\\');\\r\\n\\t\\t\\t\\t\\t}\\r\\n\\t\\t\\t\\t} ).trigger(\\'Responsive_SmallScreenModeToggled.StoreMenu\\');\\r\\n\\r\\n\\t\\t\\t\\t\\t\\t\\t\\t\\tif( $J(\\'#searchform\\').length > 0 )\\r\\n\\t\\t\\t\\t\\t{\\r\\n\\t\\t\\t\\t\\t\\tvar g_rgUserPreferences = {\\r\\n\\t\\t\\t\\t\\t\\t\\texcluded_tags : [],\\r\\n\\t\\t\\t\\t\\t\\t\\texcluded_content_descriptors : [3,4]\\t\\t\\t\\t\\t\\t};\\r\\n\\t\\t\\t\\t\\t\\tEnableSearchSuggestions( $J(\\'#searchform\\')[0].elements[\\'term\\'], \\'1_7_7_204\\', \\'US\\', \\'english\\', g_rgUserPreferences, \\'5331743\\' );\\r\\n\\t\\t\\t\\t\\t}\\r\\n\\t\\t\\t\\t\\r\\n\\r\\n\\t\\t\\t} );\\r\\n\\t\\t</script>\\r\\n\\t<script type=\"text/javascript\">\\r\\n\\tvar g_AccountID = 0;\\r\\n\\tvar g_sessionID = \"71bf8fbdb1844cc5f8e27650\";\\r\\n\\tvar g_ServerTime = 1541228952;\\r\\n\\r\\n\\t$J( InitMiniprofileHovers );\\r\\n\\r\\n\\t\\t\\tGDynamicStore.Init( 0, false, \"\" );\\r\\n\\t\\tGStoreItemData.SetCurrencyFormatter( function( nValueInCents, bWholeUnitsOnly ) { var fmt = function( nValueInCents, bWholeUnitsOnly ) {\\tvar format = v_numberformat( nValueInCents / 100, bWholeUnitsOnly ? 0 : 2, \".\", \",\"); return format; };var strNegativeSymbol = \\'\\';\\tif ( nValueInCents < 0 ) { strNegativeSymbol = \\'-\\'; nValueInCents = -nValueInCents; }return strNegativeSymbol + \"$\" + fmt( nValueInCents, bWholeUnitsOnly );} );\\r\\n\\t\\tGStoreItemData.SetCurrencyMinPriceIncrement( 1 );\\r\\n\\t</script>\\r\\n\\t<div class=\"page_content\">\\r\\n\\t\\t<div class=\"breadcrumbs\">\\r\\n\\r\\n\\t\\t</div>\\r\\n\\t\\t<h2 class=\"pageheader full\">\\r\\n\\t\\t\\tSpecials\\t\\t</h2>\\r\\n\\t\\t\\r\\n\\r\\n\\t\\t<div class=\"termcontainer\">\\r\\n\\t\\t\\t\\t\\t\\t<div id=\"termsnone\">\\r\\n\\t\\t\\t\\t<div class=\"pagesubheader\">All Products</div>\\r\\n\\t\\t\\t</div>\\r\\n\\r\\n\\t\\t\\t<div class=\"searchtag\" id=\"searchtag_tmpl\" style=\"display: none\"><span class=\"label\"></span> <a href=\"#\" class=\"btn\"></a></div>\\r\\n\\r\\n\\t\\t</div>\\r\\n\\t</div>\\r\\n\\r\\n</div>\\r\\n<form action=\"https://store.steampowered.com/search/\" id=\"advsearchform\" name=\"advsearchform\" onSubmit=\"AjaxSearchResults(); return false;\" method=\"GET\">\\r\\n<!-- Main Background -->\\r\\n<div class=\"page_content_ctn\">\\r\\n\\t<div class=\"page_content\">\\r\\n\\r\\n\\t\\t<div class=\"leftcol large\">\\r\\n\\r\\n\\t\\t\\t<div class=\"searchbar\">\\r\\n\\t\\t\\t\\t<div class=\"sortbox\">\\r\\n\\t\\t\\t\\t\\t<div class=\"label\">Sort by</div>\\r\\n\\t\\t\\t\\t\\t<div class=\"dselect_container\" id=\"sort_by_dselect_container\">\\r\\n\\t\\t\\t\\t\\t<input id=\"sort_by\" type=\"hidden\" name=\"sort_by\" value=\"_ASC\" onchange=\"$J(\\'sort_by\\').val(this.value); AjaxSearchResults(); \"/>\\r\\n\\t\\t\\t\\t\\t<a class=\"trigger\"id=\"sort_by_trigger\" href=\"javascript:DSelectNoop();\" onfocus=\"DSelectOnFocus( \\'sort_by\\');\" onblur=\"DSelectOnBlur( \\'sort_by\\');\" onclick=\"DSelectOnTriggerClick(\\'sort_by\\');\">Relevance</a>\\r\\n\\t\\t\\t\\t\\t<div class=\"dropcontainer\">\\r\\n\\t\\t\\t\\t\\t<ul class=\"dropdownhidden\" id=\"sort_by_droplist\"><li><a class=\"inactive_selection\" tabindex=\"99999\" href=\"javascript:DSelectNoop();\" onmouseover=\"DHighlightItem( \\'sort_by\\', 0, false );\" id=\"_ASC\" onclick=\"DHighlightItem( \\'sort_by\\', 0, true );\" >Relevance</a></li><li><a class=\"inactive_selection\" tabindex=\"99999\" href=\"javascript:DSelectNoop();\" onmouseover=\"DHighlightItem( \\'sort_by\\', 1, false );\" id=\"Released_DESC\" onclick=\"DHighlightItem( \\'sort_by\\', 1, true );\" >Release date</a></li><li><a class=\"inactive_selection\" tabindex=\"99999\" href=\"javascript:DSelectNoop();\" onmouseover=\"DHighlightItem( \\'sort_by\\', 2, false );\" id=\"Name_ASC\" onclick=\"DHighlightItem( \\'sort_by\\', 2, true );\" >Name</a></li><li><a class=\"inactive_selection\" tabindex=\"99999\" href=\"javascript:DSelectNoop();\" onmouseover=\"DHighlightItem( \\'sort_by\\', 3, false );\" id=\"Price_ASC\" onclick=\"DHighlightItem( \\'sort_by\\', 3, true );\" >Lowest Price</a></li><li><a class=\"inactive_selection\" tabindex=\"99999\" href=\"javascript:DSelectNoop();\" onmouseover=\"DHighlightItem( \\'sort_by\\', 4, false );\" id=\"Price_DESC\" onclick=\"DHighlightItem( \\'sort_by\\', 4, true );\" >Highest Price</a></li><li><a class=\"inactive_selection\" tabindex=\"99999\" href=\"javascript:DSelectNoop();\" onmouseover=\"DHighlightItem( \\'sort_by\\', 5, false );\" id=\"Reviews_DESC\" onclick=\"DHighlightItem( \\'sort_by\\', 5, true );\" >User Reviews</a></li></ul>\\r\\n\\t\\t\\t</div>\\r\\n\\t\\t</div><script language=\"javascript\">$J( function() { $J(\\'#sort_by_dselect_container\\').on(\\'keydown\\', HandleKeyDown ); });</script>\\t\\t\\t\\t</div>\\r\\n\\t\\t\\t\\t<div class=\"searchbar_left\">\\r\\n\\t\\t\\t\\t\\t<input type=\"text\" class=\"text\" id=\"term\" name=\"displayterm\" onfocus=\"if(this.value==\\'enter search term or tag\\'){this.value=\\'\\'}\" onchange=\"$(\\'realterm\\').value= (this.value==\\'enter search term or tag\\') ? \\'\\' : this.value\" onblur=\"if(this.value==\\'\\'){this.value=\\'enter search term or tag\\';}\" value=\"enter search term or tag\" maxlength=\"64\">\\r\\n\\t\\t\\t\\t\\t<input type=\"hidden\" name=\"term\" id=\"realterm\" value=\"\">\\r\\n\\t\\t\\t\\t\\t<input type=\"hidden\" name=\"hide_filtered_results_warning\" id=\"hide_filtered_results_warning\" value=\"\">\\r\\n\\t\\t\\t\\t\\t<input type=\"hidden\" name=\"ignore_preferences\" id=\"ignore_preferences\" value=\"\">\\r\\n\\t\\t\\t\\t\\t<button type=\"submit\" class=\"btnv6_blue_hoverfade btn_small\"><span>Search</span></button>\\r\\n\\t\\t\\t\\t\\t<div id=\"term_options\" class=\"autocomplete\" style=\"display: none;\"></div>\\r\\n\\t\\t\\t\\t</div>\\r\\n\\t\\t\\t\\t<div style=\"clear: both;\"></div>\\r\\n\\t\\t\\t</div>\\r\\n\\r\\n\\r\\n\\t\\t\\t<script type=\"text/javascript\">\\r\\n\\t\\t\\t\\t\\t\\t\\t\\tnew Ajax.Autocompleter( $(\\'advsearchform\\').elements[\\'displayterm\\'], \\'term_options\\', \\'https://store.steampowered.com/search/suggest\\', {frequency: 0.2, method: \"get\", paramName: \\'term\\', parameters : \\'cc=US&l=english&excluded_content_descriptors%5B0%5D=3&excluded_content_descriptors%5B1%5D=4\\', allowFreeEntry: true, afterUpdateElement:function() { $(\\'realterm\\').value=$(\\'term\\').value; AjaxSearchResults(); } });\\r\\n\\t\\t\\t</script>\\r\\n\\r\\n\\t\\t\\t<div id=\"search_results_filtered_warning_persistent\" class=\"search_results_filtered_warning collapsed\"></div>\\r\\n\\t\\t\\t<div id=\"search_results\">\\r\\n\\t\\t\\t\\t\\r\\n<script type = \"text/javascript\">\\r\\n\\r\\n\\tfunction shareLinkClick(link){\\r\\n\\t\\t$(\\'url_box\\').show();\\r\\n\\t\\t$(\\'sharearrow\\').show();\\r\\n\\t\\t$(\\'url_textarea\\').select();\\r\\n\\t\\tlink.style.color = \"#7da6c8\";\\r\\n\\r\\n\\t}\\r\\n\\r\\n</script>\\r\\n\\r\\n\\t\\t<div id=\"search_results_filtered_warning\" class=\"search_results_filtered_warning collapsed \">\\r\\n\\t\\t\\t<div>15 titles have been excluded based on your preferences. However, none of these titles would appear on the first page of results.</div>\\r\\n\\t\\t\\t<div class=\"settings_tab dropdown\" data-dropdown-html=\"\\r\\n\\t\\t\\t\\t&lt;div class=&quot;item&quot; data-dropdown-value=&quot;explain&quot; onclick=&quot;OnSelectFilteredContentSettingsMenu(this)&quot;&gt;What does this mean?&lt;/div&gt;\\r\\n\\t\\t\\t\\t&lt;div class=&quot;item&quot; data-dropdown-value=&quot;preferences&quot; onclick=&quot;OnSelectFilteredContentSettingsMenu(this)&quot;&gt;Edit your preferences&lt;/div&gt;\\r\\n\\t\\t\\t\\t&lt;div class=&quot;item&quot; data-dropdown-value=&quot;unfiltered&quot; onclick=&quot;OnSelectFilteredContentSettingsMenu(this)&quot;&gt;View unfiltered search results&lt;/div&gt;\\t\\t\\t\\t\\t\\r\\n\\t\\t\\t\\t\">\\r\\n\\t\\t\\t\\t&nbsp;\\r\\n\\t\\t\\t</div>\\r\\n\\t\\t</div>\\r\\n\\t\\t\\t<script>\\r\\n\\t\\tg_strUnfilteredURL = \\'https://store.steampowered.com/search/?specials=1&ignore_preferences=1\\';\\r\\n\\t</script>\\r\\n\\t<div id = \"search_result_container\" >\\r\\n\\r\\n\\t<div class=\"search_rule\"></div>\\r\\n\\r\\n\\t\\r\\n\\r\\n\\t\\t<!-- List Items -->\\r\\n\\t\\t<div>\\r\\n\\t\\t\\t<!-- Extra empty div to hack around lame IE7 layout bug -->\\r\\n\\t\\t\\t<div></div>\\r\\n\\t\\t\\t<!-- End Extra empty div -->\\r\\n\\t\\t\\t\\t\\t\\t\\t<a href=\"https://store.steampowered.com/app/374320/DARK_SOULS_III/?snr=1_7_7_204_150_1\"  data-ds-appid=\"374320\" data-ds-tagids=\"[4604,4026,122,4166,3854,1697,3834]\" data-ds-crtrids=\"[33042543]\" onmouseover=\"GameHover( this, event, \\'global_hover\\', {&quot;type&quot;:&quot;app&quot;,&quot;id&quot;:374320,&quot;public&quot;:1,&quot;v6&quot;:1} );\" onmouseout=\"HideGameHover( this, event, \\'global_hover\\' )\" class=\"search_result_row ds_collapse_flag \" >\\r\\n\\t\\t\\t\\t\\t<div class=\"col search_capsule\"><img src=\"https://steamcdn-a.akamaihd.net/steam/apps/374320/capsule_sm_120.jpg?t=1538593076\"></div>\\r\\n\\t\\t\\t\\t\\t<div class=\"responsive_search_name_combined\">\\r\\n\\t\\t\\t\\t\\t\\t<div class=\"col search_name ellipsis\">\\r\\n\\t\\t\\t\\t\\t\\t\\t<span class=\"title\">DARK SOULS™ III</span>\\r\\n\\t\\t\\t\\t\\t\\t\\t<p>\\r\\n\\t\\t\\t\\t\\t\\t\\t\\t<span class=\"platform_img win\"></span>\\t\\t\\t\\t\\t\\t\\t</p>\\r\\n\\t\\t\\t\\t\\t\\t</div>\\r\\n\\t\\t\\t\\t\\t\\t<div class=\"col search_released responsive_secondrow\">Apr 11, 2016</div>\\r\\n\\t\\t\\t\\t\\t\\t<div class=\"col search_reviewscore responsive_secondrow\">\\r\\n\\t\\t\\t\\t\\t\\t\\t\\t\\t\\t\\t\\t\\t\\t\\t<span class=\"search_review_summary positive\" data-tooltip-html=\"Very Positive&lt;br&gt;90% of the 59,687 user reviews for this game are positive.\">\\r\\n\\t\\t\\t\\t\\t\\t\\t\\t</span>\\r\\n\\t\\t\\t\\t\\t\\t\\t\\t\\t\\t\\t\\t\\t</div>\\r\\n\\r\\n\\r\\n\\t\\t\\t\\t\\t\\t<div class=\"col search_price_discount_combined responsive_secondrow\">\\r\\n\\t\\t\\t\\t\\t\\t\\t<div class=\"col search_discount responsive_secondrow\">\\r\\n\\t\\t\\t\\t\\t\\t\\t\\t<span>-75%</span>\\r\\n\\t\\t\\t\\t\\t\\t\\t</div>\\r\\n\\t\\t\\t\\t\\t\\t\\t<div class=\"col search_price discounted responsive_secondrow\">\\r\\n\\t\\t\\t\\t\\t\\t\\t\\t<span style=\"color: #888888;\"><strike>$59.99</strike></span><br>$14.99\\t\\t\\t\\t\\t\\t\\t</div>\\r\\n\\t\\t\\t\\t\\t\\t</div>\\r\\n\\t\\t\\t\\t\\t</div>\\r\\n\\r\\n\\r\\n\\t\\t\\t\\t\\t<div style=\"clear: left;\"></div>\\r\\n\\t\\t\\t\\t</a>'"
      ]
     },
     "execution_count": 5,
     "metadata": {},
     "output_type": "execute_result"
    }
   ],
   "source": [
    "#retrieve rows\n",
    "rePattern='<span class=\"title\">.*?</span>.*?<span>-[0-9][0-9]%</span>'\n",
    "rePattern='<a href.*?<span class=\"title\">.*?</span>.*?<span>-[0-9][0-9]%</span>.*?</a>'\n",
    "re1=re.compile(rePattern,re.S)\n",
    "resultList=re1.findall(page.text)\n",
    "resultList.pop(0)#removes first irrelevant stuff\n",
    "\n",
    "#debug\n",
    "#for result in resultList:\n",
    "#    print(\"======================================\")\n",
    "#    print(result)"
   ]
  },
  {
   "cell_type": "code",
   "execution_count": 6,
   "metadata": {},
   "outputs": [],
   "source": [
    "#retrieve game store page link\n",
    "rePattern='href=\".*?\"'\n",
    "re2=re.compile(rePattern,re.S)\n",
    "steamGameStorePageUrlList=re2.findall(str(resultList))\n",
    "steamGameStorePageUrlListFiltered=[]\n",
    "for steamGameStorePageUrl in steamGameStorePageUrlList:\n",
    "    steamGameStorePageUrl=steamGameStorePageUrl.replace('href=\"','')\n",
    "    steamGameStorePageUrl=steamGameStorePageUrl.replace('\"','')\n",
    "    steamGameStorePageUrlListFiltered.append(steamGameStorePageUrl)\n",
    "    \n",
    "#debug\n",
    "#for steamGameStorePageUrl in steamGameStorePageUrlListFiltered:\n",
    "#    print(\"======================================\")\n",
    "#    print(steamGameStorePageUrl)"
   ]
  },
  {
   "cell_type": "code",
   "execution_count": 7,
   "metadata": {},
   "outputs": [],
   "source": [
    "#retrieve game titles\n",
    "rePattern='<span class=\"title\">.*?</span>'\n",
    "re3=re.compile(rePattern)\n",
    "gameTitleList=re3.findall(str(resultList))\n",
    "\n",
    "gameTitleListFiltered=[]\n",
    "for gameTitle in gameTitleList:\n",
    "    gameTitle=gameTitle.replace('<span class=\"title\">','')\n",
    "    gameTitle=gameTitle.replace('</span>','')\n",
    "    gameTitleListFiltered.append(gameTitle)\n",
    "    \n",
    "#debug\n",
    "#for gameTitle in gameTitleListFiltered:\n",
    "#    print(gameTitle)"
   ]
  },
  {
   "cell_type": "code",
   "execution_count": 8,
   "metadata": {},
   "outputs": [],
   "source": [
    "#retrieve game discount\n",
    "rePattern='-..%'\n",
    "re4=re.compile(rePattern)\n",
    "gameDiscountList=re4.findall(str(resultList))\n",
    "\n",
    "#debug\n",
    "#for gameDiscount in gameDiscountList:\n",
    "#    print(gameDiscount)"
   ]
  },
  {
   "cell_type": "code",
   "execution_count": 9,
   "metadata": {},
   "outputs": [],
   "source": [
    "gameDetailsList=zip(gameTitleListFiltered,steamGameStorePageUrlListFiltered,gameDiscountList)\n",
    "\n",
    "#debug\n",
    "#for gameDetail in gameDetailsList:\n",
    "#    print(gameDetail[1])"
   ]
  },
  {
   "cell_type": "code",
   "execution_count": 10,
   "metadata": {},
   "outputs": [],
   "source": [
    "#search gamespot site\n",
    "gameSpotUrl='http://www.gamespot.com'\n",
    "gameSpotSearchUrl='http://www.gamespot.com/search/'\n",
    "#headers = {'User-Agent': 'Mozilla/5.0 (Macintosh; Intel Mac OS X 10_10_1) AppleWebKit/537.36 (KHTML, like Gecko) Chrome/39.0.2171.95 Safari/537.36'}#chrome\n",
    "headers = {'User-Agent': 'Mozilla/5.0 (Windows NT 6.1; WOW64; rv:64.0) Gecko/20100101 Firefox/64.0'}#Firefox\n",
    "\n",
    "gameDetailsWithReviewList=[]\n",
    "for gameDetail in gameDetailsList:\n",
    "    gameSpotPayload={'q':gameDetail[0],'i':'reviews'}\n",
    "    page = requests.get(gameSpotSearchUrl,params=gameSpotPayload,headers=headers)\n",
    "    rePattern='<a.*?'+gameDetail[0]+' Review</a>'\n",
    "    re5=re.compile(rePattern,re.I)\n",
    "    match=re5.search(str(page.text))\n",
    "    if match:\n",
    "        rePattern='\".*?\"'\n",
    "        re6=re.compile(rePattern)\n",
    "        submatch=re6.search(match.group())\n",
    "        result=submatch.group()\n",
    "        result=result.replace('\"','')\n",
    "        result=gameSpotUrl+result\n",
    "    else:\n",
    "        result='Unavailable'\n",
    "        \n",
    "        \n",
    "    gameDetailsWithReviewList.append([gameDetail[0],gameDetail[1],gameDetail[2],result])\n",
    "    \n",
    "#debug\n",
    "#for row in gameDetailsWithReviewList:\n",
    "#    print(row)"
   ]
  },
  {
   "cell_type": "code",
   "execution_count": 11,
   "metadata": {},
   "outputs": [],
   "source": [
    "#remove special characters\n",
    "gameList=[]\n",
    "for gameDetails in gameDetailsWithReviewList:\n",
    "    gameTitle=re.sub('™','',str(gameDetails[0]))\n",
    "    gameTitle=re.sub('©','',gameTitle)\n",
    "    gameTitle=re.sub('®','',gameTitle)\n",
    "    newGameDetail=[gameTitle,gameDetails[1],gameDetails[2],gameDetails[3]]\n",
    "    gameList.append(newGameDetail)\n",
    "    \n",
    "#debug\n",
    "#for game in gameList:\n",
    "#    print(game)"
   ]
  },
  {
   "cell_type": "code",
   "execution_count": 12,
   "metadata": {},
   "outputs": [
    {
     "name": "stdout",
     "output_type": "stream",
     "text": [
      "['DARK SOULS III Deluxe Edition', 'https://store.steampowered.com/sub/94174/?snr=1_7_7_204_150_1', '-70%', 'Unavailable', 'Unavailable']\n",
      "['Grand Theft Auto V', 'https://store.steampowered.com/app/271590/Grand_Theft_Auto_V/?snr=1_7_7_204_150_1', '-34%', 'http://www.gamespot.com/reviews/grand-theft-auto-v-review/1900-6414475/', '9']\n",
      "['DARK SOULS III - Season Pass', 'https://store.steampowered.com/app/442010/DARK_SOULS_III__Season_Pass/?snr=1_7_7_204_150_1', '-50%', 'Unavailable', 'Unavailable']\n",
      "['Kerbal Space Program', 'https://store.steampowered.com/app/220200/Kerbal_Space_Program/?snr=1_7_7_204_150_1', '-60%', 'http://www.gamespot.com/reviews/kerbal-space-program-review/1900-6416128/', '9']\n",
      "['DRAGON BALL FighterZ', 'https://store.steampowered.com/app/678950/DRAGON_BALL_FighterZ/?snr=1_7_7_204_150_1', '-60%', 'Unavailable', 'Unavailable']\n",
      "['TEKKEN 7', 'https://store.steampowered.com/app/389730/TEKKEN_7/?snr=1_7_7_204_150_1', '-50%', 'http://www.gamespot.com/reviews/tekken-7-review/1900-6416694/', '8']\n",
      "['Sword Art Online: Fatal Bullet', 'https://store.steampowered.com/app/626690/Sword_Art_Online_Fatal_Bullet/?snr=1_7_7_204_150_1', '-60%', 'Unavailable', 'Unavailable']\n",
      "['Sword Art Online: Hollow Realization Deluxe Edition', 'https://store.steampowered.com/app/607890/Sword_Art_Online_Hollow_Realization_Deluxe_Edition/?snr=1_7_7_204_150_1', '-60%', 'Unavailable', 'Unavailable']\n",
      "['DRAGON BALL XENOVERSE 2', 'https://store.steampowered.com/app/454650/DRAGON_BALL_XENOVERSE_2/?snr=1_7_7_204_150_1', '-75%', 'Unavailable', 'Unavailable']\n",
      "['.hack//G.U. Last Recode', 'https://store.steampowered.com/app/525480/hackGU_Last_Recode/?snr=1_7_7_204_150_1', '-70%', 'Unavailable', 'Unavailable']\n",
      "['Phantom Doctrine', 'https://store.steampowered.com/app/559100/Phantom_Doctrine/?snr=1_7_7_204_150_1', '-25%', 'Unavailable', 'Unavailable']\n",
      "['Project Hospital', 'https://store.steampowered.com/app/868360/Project_Hospital/?snr=1_7_7_204_150_1', '-10%', 'Unavailable', 'Unavailable']\n",
      "['Total War: WARHAMMER II - Curse of the Vampire Coast', 'https://store.steampowered.com/app/835670/Total_War_WARHAMMER_II__Curse_of_the_Vampire_Coast/?snr=1_7_7_204_150_1', '-10%', 'Unavailable', 'Unavailable']\n",
      "['PAYDAY 2: Ultimate Edition', 'https://store.steampowered.com/bundle/3756/PAYDAY_2_Ultimate_Edition/?snr=1_7_7_204_150_1', '-86%', 'Unavailable', 'Unavailable']\n",
      "['Sword Art Online Re: Hollow Fragment', 'https://store.steampowered.com/app/638650/Sword_Art_Online_Re_Hollow_Fragment/?snr=1_7_7_204_150_1', '-50%', 'Unavailable', 'Unavailable']\n",
      "['DARK SOULS II: Scholar of the First Sin', 'https://store.steampowered.com/app/335300/DARK_SOULS_II_Scholar_of_the_First_Sin/?snr=1_7_7_204_150_1', '-75%', 'Unavailable', 'Unavailable']\n",
      "['NARUTO SHIPPUDEN: Ultimate Ninja STORM 4', 'https://store.steampowered.com/app/349040/NARUTO_SHIPPUDEN_Ultimate_Ninja_STORM_4/?snr=1_7_7_204_150_1', '-50%', 'http://www.gamespot.com/reviews/naruto-shippuden-ultimate-ninja-storm-4-review/1900-6416376/', '7']\n",
      "['SCUM', 'https://store.steampowered.com/app/513710/SCUM/?snr=1_7_7_204_150_1', '-10%', 'Unavailable', 'Unavailable']\n",
      "['Tales of Berseria', 'https://store.steampowered.com/app/429660/Tales_of_Berseria/?snr=1_7_7_204_150_1', '-75%', 'Unavailable', 'Unavailable']\n",
      "['Little Witch Academia: Chamber of Time', 'https://store.steampowered.com/app/710470/Little_Witch_Academia_Chamber_of_Time/?snr=1_7_7_204_150_1', '-60%', 'Unavailable', 'Unavailable']\n",
      "['Project CARS 2', 'https://store.steampowered.com/app/378860/Project_CARS_2/?snr=1_7_7_204_150_1', '-67%', 'http://www.gamespot.com/reviews/project-cars-2/1900-6416766/', '7']\n",
      "['NARUTO SHIPPUDEN: Ultimate Ninja STORM Legacy', 'https://store.steampowered.com/bundle/4308/NARUTO_SHIPPUDEN_Ultimate_Ninja_STORM_Legacy/?snr=1_7_7_204_150_1', '-75%', 'Unavailable', 'Unavailable']\n",
      "['Ni no Kuni II: Revenant Kingdom', 'https://store.steampowered.com/app/589360/Ni_no_Kuni_II_Revenant_Kingdom/?snr=1_7_7_204_150_1', '-40%', 'Unavailable', 'Unavailable']\n",
      "['Jurassic World Evolution', 'https://store.steampowered.com/app/648350/Jurassic_World_Evolution/?snr=1_7_7_204_150_1', '-35%', 'Unavailable', 'Unavailable']\n"
     ]
    }
   ],
   "source": [
    "#get review score\n",
    "completedGameList=[]\n",
    "for game in gameList:\n",
    "    if game[3]!=\"Unavailable\":\n",
    "        page = requests.get(game[3],headers=headers)\n",
    "        rePattern='<div class=\"gs-score__cell\">.*?</div>'\n",
    "        re6=re.compile(rePattern,re.S)\n",
    "        match=re6.search(str(page.text))\n",
    "        match=re.sub('<.*?>','',match.group())\n",
    "        match=match.replace(' ','').replace('\\t','').replace('\\n','')\n",
    "    else:\n",
    "        match='Unavailable'\n",
    "    game.append(match)\n",
    "    completedGameList.append(game)\n",
    "        \n",
    "#debug\n",
    "for game in gameList:\n",
    "    print(game)"
   ]
  },
  {
   "cell_type": "code",
   "execution_count": 13,
   "metadata": {},
   "outputs": [],
   "source": [
    "#completedGameList\n",
    "#[GameTitle,GameSteamURl,Discount,GamespotUrl,GamespotScore]"
   ]
  },
  {
   "cell_type": "code",
   "execution_count": 14,
   "metadata": {},
   "outputs": [],
   "source": [
    "#sort by score\n",
    "sortedCompletedGameList=[]\n",
    "gameListWithScore=[]\n",
    "gameListWithoutScore=[]\n",
    "for gameDetail in completedGameList:\n",
    "    if(gameDetail[4]!='Unavailable'):\n",
    "        gameListWithScore.append(gameDetail)\n",
    "    else:\n",
    "        gameListWithoutScore.append(gameDetail)\n",
    "\n",
    "sortedGameList=sorted(gameListWithScore, key=lambda gameDetail: gameDetail[4],reverse=True)\n",
    "for game in gameListWithScore:\n",
    "    sortedCompletedGameList.append(game)\n",
    "for game in gameListWithoutScore:\n",
    "    sortedCompletedGameList.append(game)\n",
    "    \n",
    "#debug\n",
    "#for game in sortedCompletedGameList:\n",
    "#    print(game)"
   ]
  },
  {
   "cell_type": "code",
   "execution_count": 15,
   "metadata": {},
   "outputs": [
    {
     "name": "stdout",
     "output_type": "stream",
     "text": [
      "['Kerbal Space Program', 'https://store.steampowered.com/app/220200/Kerbal_Space_Program/?snr=1_7_7_204_150_1', '-60%', 'http://www.gamespot.com/reviews/kerbal-space-program-review/1900-6416128/', '9']\n",
      "['Project CARS 2', 'https://store.steampowered.com/app/378860/Project_CARS_2/?snr=1_7_7_204_150_1', '-67%', 'http://www.gamespot.com/reviews/project-cars-2/1900-6416766/', '7']\n",
      "['DARK SOULS III Deluxe Edition', 'https://store.steampowered.com/sub/94174/?snr=1_7_7_204_150_1', '-70%', 'Unavailable', 'Unavailable']\n",
      "['DRAGON BALL FighterZ', 'https://store.steampowered.com/app/678950/DRAGON_BALL_FighterZ/?snr=1_7_7_204_150_1', '-60%', 'Unavailable', 'Unavailable']\n",
      "['Sword Art Online: Fatal Bullet', 'https://store.steampowered.com/app/626690/Sword_Art_Online_Fatal_Bullet/?snr=1_7_7_204_150_1', '-60%', 'Unavailable', 'Unavailable']\n",
      "['Sword Art Online: Hollow Realization Deluxe Edition', 'https://store.steampowered.com/app/607890/Sword_Art_Online_Hollow_Realization_Deluxe_Edition/?snr=1_7_7_204_150_1', '-60%', 'Unavailable', 'Unavailable']\n",
      "['DRAGON BALL XENOVERSE 2', 'https://store.steampowered.com/app/454650/DRAGON_BALL_XENOVERSE_2/?snr=1_7_7_204_150_1', '-75%', 'Unavailable', 'Unavailable']\n",
      "['.hack//G.U. Last Recode', 'https://store.steampowered.com/app/525480/hackGU_Last_Recode/?snr=1_7_7_204_150_1', '-70%', 'Unavailable', 'Unavailable']\n",
      "['PAYDAY 2: Ultimate Edition', 'https://store.steampowered.com/bundle/3756/PAYDAY_2_Ultimate_Edition/?snr=1_7_7_204_150_1', '-86%', 'Unavailable', 'Unavailable']\n",
      "['DARK SOULS II: Scholar of the First Sin', 'https://store.steampowered.com/app/335300/DARK_SOULS_II_Scholar_of_the_First_Sin/?snr=1_7_7_204_150_1', '-75%', 'Unavailable', 'Unavailable']\n",
      "['Tales of Berseria', 'https://store.steampowered.com/app/429660/Tales_of_Berseria/?snr=1_7_7_204_150_1', '-75%', 'Unavailable', 'Unavailable']\n",
      "['Little Witch Academia: Chamber of Time', 'https://store.steampowered.com/app/710470/Little_Witch_Academia_Chamber_of_Time/?snr=1_7_7_204_150_1', '-60%', 'Unavailable', 'Unavailable']\n",
      "['NARUTO SHIPPUDEN: Ultimate Ninja STORM Legacy', 'https://store.steampowered.com/bundle/4308/NARUTO_SHIPPUDEN_Ultimate_Ninja_STORM_Legacy/?snr=1_7_7_204_150_1', '-75%', 'Unavailable', 'Unavailable']\n"
     ]
    }
   ],
   "source": [
    "#remove games discounted lower than 50\n",
    "finalGameList=[]\n",
    "for game in sortedCompletedGameList:\n",
    "    discount=game[2]\n",
    "    discount=discount.replace('-','')\n",
    "    discount=discount.replace('%','')\n",
    "    if(int(float(discount))>50):\n",
    "        finalGameList.append(game)\n",
    "        \n",
    "#debug\n",
    "for game in finalGameList:\n",
    "    print(game)"
   ]
  },
  {
   "cell_type": "code",
   "execution_count": 16,
   "metadata": {},
   "outputs": [],
   "source": [
    "#html code\n",
    "htmlCode=''\n",
    "\n",
    "htmlTop=\"\"\"\n",
    "<html lang=\"en\">\n",
    "<meta http-equiv=\"Content-Type\" content=\"text/html; charset=utf-8\"/>\n",
    "<head>\n",
    "<title>Steam Special Sale Games with GameSpot Review Scores</title>\n",
    "</head>\n",
    "\"\"\"\n",
    "htmlBodyStart='<body>'\n",
    "header='<h1>Steam Special Sale Games with GameSpot Review Scores</h1>'\n",
    "tableStart='<table border=1>'\n",
    "\n",
    "tableHeaders='<tr>'\n",
    "tableHeaders+='<th>Game</th>'\n",
    "tableHeaders+='<th>Discount</th>'\n",
    "tableHeaders+='<th>GameSpot Score</th>'\n",
    "tableHeaders+='</tr>'\n",
    "\n",
    "tableRows=''\n",
    "\n",
    "tableEnd='</table>'\n",
    "\n",
    "htmlBodyEnd='</body>'\n",
    "htmlBottom='</html>'\n",
    "\n",
    "htmlCode=htmlTop+htmlBodyStart+header\n",
    "htmlCode+=tableStart+tableHeaders+tableRows+tableEnd\n",
    "htmlCode+=htmlBodyEnd+htmlBottom\n",
    "\n",
    "#completedGameList\n",
    "#[GameTitle,GameSteamURl,Discount,GamespotUrl,GamespotScore]\n",
    "#create rows\n",
    "for entry in finalGameList:\n",
    "    #game,steam url\n",
    "    tableRows+='<tr><td>'\n",
    "    tableRows+='<a href=\"'+entry[1]+'\">'\n",
    "    tableRows+=entry[0]+'</a></td>'\n",
    "    \n",
    "    #discount\n",
    "    tableRows+='<td>'+entry[2]+'</td>'\n",
    "    \n",
    "    #gamespot score,gamesport url\n",
    "    if(entry[3]!='Unavailable'):\n",
    "        tableRows+='<td><a href=\"'+entry[3]+'\">'\n",
    "        tableRows+=entry[4]+'</a>'\n",
    "        tableRows+='</td></tr>'\n",
    "    else:\n",
    "        tableRows+='<td>Gamespot score not found</td></tr>'\n",
    "        \n",
    "#build html code\n",
    "htmlCode=htmlTop+htmlBodyStart+header\n",
    "htmlCode+=tableStart+tableHeaders+tableRows+tableEnd\n",
    "htmlCode+=htmlBodyEnd+htmlBottom\n",
    "\n",
    "#debug\n",
    "#print(htmlCode)"
   ]
  },
  {
   "cell_type": "code",
   "execution_count": 17,
   "metadata": {},
   "outputs": [],
   "source": [
    "#write to file\n",
    "with open(\"rankings.html\", \"w\") as file:\n",
    "    file.write(htmlCode)"
   ]
  },
  {
   "cell_type": "code",
   "execution_count": null,
   "metadata": {},
   "outputs": [],
   "source": []
  }
 ],
 "metadata": {
  "kernelspec": {
   "display_name": "Python 3",
   "language": "python",
   "name": "python3"
  },
  "language_info": {
   "codemirror_mode": {
    "name": "ipython",
    "version": 3
   },
   "file_extension": ".py",
   "mimetype": "text/x-python",
   "name": "python",
   "nbconvert_exporter": "python",
   "pygments_lexer": "ipython3",
   "version": "3.7.1"
  }
 },
 "nbformat": 4,
 "nbformat_minor": 2
}
